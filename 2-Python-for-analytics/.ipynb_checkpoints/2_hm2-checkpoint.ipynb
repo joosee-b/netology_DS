{
 "cells": [
  {
   "cell_type": "markdown",
   "metadata": {},
   "source": [
    "### Задание - 1"
   ]
  },
  {
   "cell_type": "code",
   "execution_count": 40,
   "metadata": {},
   "outputs": [
    {
     "data": {
      "text/plain": [
       "[{'visit1': ['Москва', 'Россия']},\n",
       " {'visit3': ['Владимир', 'Россия']},\n",
       " {'visit7': ['Тула', 'Россия']},\n",
       " {'visit8': ['Тула', 'Россия']},\n",
       " {'visit9': ['Курск', 'Россия']},\n",
       " {'visit10': ['Архангельск', 'Россия']}]"
      ]
     },
     "execution_count": 40,
     "metadata": {},
     "output_type": "execute_result"
    }
   ],
   "source": [
    "geo_logs = [\n",
    "    {'visit1': ['Москва', 'Россия']},\n",
    "    {'visit2': ['Дели', 'Индия']},\n",
    "    {'visit3': ['Владимир', 'Россия']},\n",
    "    {'visit4': ['Лиссабон', 'Португалия']},\n",
    "    {'visit5': ['Париж', 'Франция']},\n",
    "    {'visit6': ['Лиссабон', 'Португалия']},\n",
    "    {'visit7': ['Тула', 'Россия']},\n",
    "    {'visit8': ['Тула', 'Россия']},\n",
    "    {'visit9': ['Курск', 'Россия']},\n",
    "    {'visit10': ['Архангельск', 'Россия']},\n",
    "]\n",
    "\n",
    "\n",
    "def exist(row):\n",
    "    for k, v in row.items():\n",
    "        return row if 'Россия' in v else None\n",
    "\n",
    "list(filter(exist, geo_logs))"
   ]
  },
  {
   "cell_type": "markdown",
   "metadata": {},
   "source": [
    "### Задание - 2"
   ]
  },
  {
   "cell_type": "code",
   "execution_count": 50,
   "metadata": {},
   "outputs": [
    {
     "data": {
      "text/plain": [
       "[213, 15, 54, 119, 98, 35]"
      ]
     },
     "execution_count": 50,
     "metadata": {},
     "output_type": "execute_result"
    }
   ],
   "source": [
    "ids = {'user1': [213, 213, 213, 15, 213], 'user2': [54, 54, 119, 119, 119], 'user3': [213, 98, 98, 35]}\n",
    "\n",
    "uniq_ids=[ ];\n",
    "for k, v in ids.items():\n",
    "    for id in v:\n",
    "        uniq_ids.append(id) if id not in uniq_ids else None\n",
    "uniq_ids"
   ]
  },
  {
   "cell_type": "markdown",
   "metadata": {},
   "source": [
    "### Задание - 3"
   ]
  },
  {
   "cell_type": "code",
   "execution_count": 37,
   "metadata": {},
   "outputs": [
    {
     "data": {
      "text/plain": [
       "{3: 4, 2: 3}"
      ]
     },
     "execution_count": 37,
     "metadata": {},
     "output_type": "execute_result"
    }
   ],
   "source": [
    "queries = [\n",
    "'смотреть сериалы онлайн',\n",
    "'новости спорта',\n",
    "'афиша кино',\n",
    "'курс доллара',\n",
    "'сериалы этим летом',\n",
    "'курс по питону',\n",
    "'сериалы про спорт',\n",
    "]\n",
    "\n",
    "result = {}\n",
    "one = len(queries) / 100\n",
    "\n",
    "for q in queries:\n",
    "    ct = len(q.split(\" \"))\n",
    "    if ct in result:\n",
    "        result[ct] = result[ct] + 1\n",
    "    else:\n",
    "        result[ct] = 1\n",
    "result\n",
    "# to persent     \n",
    "for key, value in result.items():\n",
    "    result[key] = value / one\n",
    "\n",
    "result"
   ]
  },
  {
   "cell_type": "markdown",
   "metadata": {},
   "source": [
    "### Задание - 4 "
   ]
  },
  {
   "cell_type": "code",
   "execution_count": 107,
   "metadata": {},
   "outputs": [
    {
     "data": {
      "text/plain": [
       "'yandex'"
      ]
     },
     "execution_count": 107,
     "metadata": {},
     "output_type": "execute_result"
    }
   ],
   "source": [
    "import operator\n",
    "stats = {'facebook': 55, 'yandex': 120, 'vk': 115, 'google': 99, 'email': 42, 'ok': 98}\n",
    "\n",
    "max(stats.items(), key=operator.itemgetter(1))[0]"
   ]
  },
  {
   "cell_type": "markdown",
   "metadata": {},
   "source": [
    "### Задание - 5"
   ]
  },
  {
   "cell_type": "code",
   "execution_count": 34,
   "metadata": {},
   "outputs": [
    {
     "data": {
      "text/plain": [
       "{'user1': 5.25, 'user2': 7.0, 'user3': 7.0, 'user4': 10.2}"
      ]
     },
     "execution_count": 34,
     "metadata": {},
     "output_type": "execute_result"
    }
   ],
   "source": [
    "stream = [\n",
    "'2018-01-01,user1,3',\n",
    "'2018-01-07,user1,4',\n",
    "'2018-03-29,user1,1',\n",
    "'2018-04-04,user1,13',\n",
    "'2018-01-05,user2,7',\n",
    "'2018-06-14,user3,4',\n",
    "'2018-07-02,user3,10',\n",
    "'2018-03-21,user4,19',\n",
    "'2018-03-22,user4,4',\n",
    "'2018-04-22,user4,8',\n",
    "'2018-05-03,user4,9',\n",
    "'2018-05-11,user4,11',\n",
    "]\n",
    "\n",
    "users_data = {}\n",
    "last_user = None\n",
    "days = 1;\n",
    "\n",
    "for row in stream:\n",
    "    date, user, ct = row.split(\",\")\n",
    "    if last_user is None:\n",
    "        last_user = user\n",
    "        \n",
    "    if last_user != user:\n",
    "        users_data[last_user] = users_data[last_user] / days\n",
    "        users_data[user] = int(ct)\n",
    "        last_user = user\n",
    "        days = 1\n",
    "        continue\n",
    "    \n",
    "    if user in users_data:\n",
    "        users_data[user] = users_data[user] + int(ct)\n",
    "        days += 1\n",
    "    else:\n",
    "        users_data[user] = int(ct)\n",
    "    \n",
    "    \n",
    "users_data[last_user] = users_data[last_user] / days\n",
    "users_data"
   ]
  },
  {
   "cell_type": "markdown",
   "metadata": {},
   "source": [
    "### Задание - 6"
   ]
  },
  {
   "cell_type": "code",
   "execution_count": 9,
   "metadata": {},
   "outputs": [
    {
     "data": {
      "text/plain": [
       "25"
      ]
     },
     "execution_count": 9,
     "metadata": {},
     "output_type": "execute_result"
    }
   ],
   "source": [
    "stats = [\n",
    "    ['2018-01-01', 'google', 25],\n",
    "    ['2018-01-01', 'yandex', 65],\n",
    "    ['2018-01-01', 'market', 89],\n",
    "    ['2018-01-02', 'google', 574],\n",
    "    ['2018-01-02', 'yandex', 249],\n",
    "    ['2018-01-02', 'market', 994],\n",
    "    ['2018-01-03', 'google', 1843],\n",
    "    ['2018-01-03', 'yandex', 1327],\n",
    "    ['2018-01-03', 'market', 1764],\n",
    "]\n",
    "\n",
    "\n",
    "d = {}\n",
    "for row in stats:\n",
    "    d[\"%s-%s\" % (row[0], row[1])] = row[2]\n",
    "    \n",
    "def search_f(date, provider):\n",
    "    key = \"%s-%s\" % (date, provider)\n",
    "    if key in d:\n",
    "        return d[key]\n",
    "    return None\n",
    "\n",
    "search_f(\"2018-01-01\", \"google\")"
   ]
  },
  {
   "cell_type": "markdown",
   "metadata": {},
   "source": [
    "### Задание - 7\n"
   ]
  },
  {
   "cell_type": "code",
   "execution_count": 12,
   "metadata": {},
   "outputs": [
    {
     "data": {
      "text/plain": [
       "[{'05101520253035404550556065707580859095': 5}]"
      ]
     },
     "execution_count": 12,
     "metadata": {},
     "output_type": "execute_result"
    }
   ],
   "source": [
    "test_key = \"\".join([str(x * 5) for x in range(20)])\n",
    "\n",
    "a = [\n",
    "    [x * 1 for x in range(20)] + [1],\n",
    "    [x * 2 for x in range(20)] + [2],\n",
    "    [x * 3 for x in range(20)] + [3],\n",
    "    [x * 4 for x in range(20)] + [4],\n",
    "    [x * 5 for x in range(20)] + [5],\n",
    "    [x * 6 for x in range(20)] + [6],\n",
    "    [x * 7 for x in range(20)] + [7],\n",
    "    [x * 8 for x in range(20)] + [8],\n",
    "]\n",
    "\n",
    "search_db = [(lambda x: {\"\".join(map(lambda y: str(y),x[0:len(x) - 1])): x[-1]})(x) for x in a]\n",
    "list(filter(lambda x: x if test_key in x.keys() else None, search_db))"
   ]
  }
 ],
 "metadata": {
  "kernelspec": {
   "display_name": "Python 3",
   "language": "python",
   "name": "python3"
  },
  "language_info": {
   "codemirror_mode": {
    "name": "ipython",
    "version": 3
   },
   "file_extension": ".py",
   "mimetype": "text/x-python",
   "name": "python",
   "nbconvert_exporter": "python",
   "pygments_lexer": "ipython3",
   "version": "3.6.5"
  }
 },
 "nbformat": 4,
 "nbformat_minor": 2
}
