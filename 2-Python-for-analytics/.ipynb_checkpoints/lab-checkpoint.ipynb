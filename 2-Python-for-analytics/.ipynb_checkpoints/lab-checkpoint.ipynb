{
 "cells": [
  {
   "cell_type": "code",
   "execution_count": 3,
   "metadata": {},
   "outputs": [
    {
     "data": {
      "text/plain": [
       "228"
      ]
     },
     "execution_count": 3,
     "metadata": {},
     "output_type": "execute_result"
    }
   ],
   "source": [
    "# Дан произвольный список, содержащий только числа. Выведите результат сложения всех чисел больше 10.\n",
    "\n",
    "l = [1, 2, 10, 44, 23, 4, 66, 77, 18]\n",
    "sum(filter(lambda x: x > 10, l))\n"
   ]
  },
  {
   "cell_type": "code",
   "execution_count": 6,
   "metadata": {},
   "outputs": [
    {
     "data": {
      "text/plain": [
       "['sfdfkjhsdkjhftr', 'fjskdjkfjdfjasfdadstr']"
      ]
     },
     "execution_count": 6,
     "metadata": {},
     "output_type": "execute_result"
    }
   ],
   "source": [
    "# Пусть задан список, содержащий строки. Выведите все строки, заканчивающиеся буковой r.\n",
    "\n",
    "l = ['123fsd fsdfa', 'sfdfkjhsdkjhftr', 'fjskdjkfjdfjasfdadstr', 'fjsdkfs', 'sdfjfj']\n",
    "\n",
    "list(filter(lambda x: x[-1] == \"r\", l))\n"
   ]
  },
  {
   "cell_type": "code",
   "execution_count": 25,
   "metadata": {},
   "outputs": [
    {
     "data": {
      "text/plain": [
       "'443237'"
      ]
     },
     "execution_count": 25,
     "metadata": {},
     "output_type": "execute_result"
    }
   ],
   "source": [
    "# Сгенерируйте и выведите cлучайную строку размером 6 символов, содержащую только цифры. Строка должна\n",
    "# содержать хотя бы одну цифру 3.\n",
    "\n",
    "import string\n",
    "import random\n",
    "def generator(size=6, chars=string.digits):\n",
    "    s =  ''.join(random.choice(chars) for _ in range(size))\n",
    "    if \"3\" not in s:\n",
    "        return generator(size)\n",
    "    else:\n",
    "        return s\n",
    "\n",
    "generator()\n"
   ]
  },
  {
   "cell_type": "code",
   "execution_count": 26,
   "metadata": {},
   "outputs": [
    {
     "name": "stdout",
     "output_type": "stream",
     "text": [
      "87 16\n"
     ]
    }
   ],
   "source": [
    "# Пусть дана строка произвольной длины. Выведите информацию о том, сколько в ней символов и сколько слов.\n",
    "s = 'Пусть дана строка произвольной длины. Выведите информацию о том, сколько в ней символов и сколько слов'\n",
    "len_chars = len(s.replace(\" \", \"\"))\n",
    "len_words = len(s.split(\" \"))\n",
    "print(len_chars, len_words)"
   ]
  },
  {
   "cell_type": "code",
   "execution_count": 37,
   "metadata": {},
   "outputs": [
    {
     "name": "stdout",
     "output_type": "stream",
     "text": [
      "[0, 1, 2, 3, 4, 5, 6, 7, 8, 9, 2, 3, 4, 5, 6, 10, 11, 12, 13, 14, 1, 2, 3, 4, 5] 140\n"
     ]
    }
   ],
   "source": [
    "# Пусть дана матрица чисел размером NхN. Представьте данную матрицу в виде списка. Выведите результат сложения\n",
    "# всех элементов матрицы.\n",
    "\n",
    "m = [\n",
    "    [i for i in range(5)],\n",
    "    [i for i in range(5, 10)],\n",
    "    [i for i in range(2, 7)],\n",
    "    [i for i in range(10, 15)],\n",
    "    [i for i in range(1, 6)],\n",
    "]\n",
    "\n",
    "l = []\n",
    "for row in m:\n",
    "    l = l + row\n",
    "    \n",
    "print(l, sum(l))\n"
   ]
  },
  {
   "cell_type": "code",
   "execution_count": 9,
   "metadata": {},
   "outputs": [
    {
     "data": {
      "text/plain": [
       "{1: ['Сергей', 30, 'Начинающий питонщик'],\n",
       " 2: ['Роман', 31, 'Гуру питонщик'],\n",
       " 3: ['Саша', 28, 'Подаван']}"
      ]
     },
     "execution_count": 9,
     "metadata": {},
     "output_type": "execute_result"
    }
   ],
   "source": [
    "# Пусть список студентов представлен в виде структуры [[No, ФИО, Возраст,Группа],[No, ФИО, Возраст, Группа],[No, ФИО,\n",
    "# Возраст, Группа]]. Преобразуйте список в словарь вида: {No: [ФИО, Возраст, Группа], No:[....], No: [....]}\n",
    "\n",
    "students= [\n",
    "    [1, 'Сергей', 30, 'Начинающий питонщик'],\n",
    "    [2, 'Роман', 31, 'Гуру питонщик'],\n",
    "    [3, 'Саша', 28, 'Подаван']\n",
    "]\n",
    "\n",
    "d = {}\n",
    "\n",
    "for row in students:\n",
    "    d[row[0]] = row[1: len(row)]\n",
    "    \n",
    "d"
   ]
  },
  {
   "cell_type": "markdown",
   "metadata": {},
   "source": [
    "# Добавьте к задаче No6 для словаря возможность (без преобразования словаря обратно в список) изменить группу\n",
    "from IPython.display import display\n",
    "from ipywidgets import widgets\n",
    "\n",
    "\n",
    "class Listener:\n",
    "    current_user = 0\n",
    "    \n",
    "    def __init__(self, d):\n",
    "        self.d = d\n",
    "        self.name = widgets.Text()\n",
    "        self.group = widgets.Text()\n",
    "        print(\"Введите имя: \")\n",
    "        display(self.name)\n",
    "        self.name.on_submit(self.handle_submit)\n",
    "        self.group.on_submit(self.handle_group_submit)\n",
    "    \n",
    "    def handle_submit(self, sender):\n",
    "        row = list(filter(lambda x: self.name.value in self.d[x], self.d))\n",
    "        if len(row) > 0:\n",
    "            student = self.d[row[0]]\n",
    "            self.current_user = row[0]\n",
    "            print(\"Введите название группы для %s, %s, %s:\" % (student[0], student[1], student[2]))\n",
    "            display(self.group)\n",
    "        else:\n",
    "            print(\"Студент не найден\")\n",
    "\n",
    "    def handle_group_submit(self, sender):\n",
    "        if len(self.group.value) > 0:\n",
    "            self.d[self.current_user][2] = self.group.value\n",
    "            \n",
    "            print(self.d)\n",
    "        else:\n",
    "            print(\"Название группы не может быть пустым\")\n",
    "\n",
    "l = Listener(d)\n",
    "\n",
    "    \n",
    "\n"
   ]
  },
  {
   "cell_type": "code",
   "execution_count": 2,
   "metadata": {},
   "outputs": [
    {
     "data": {
      "text/plain": [
       "5"
      ]
     },
     "execution_count": 2,
     "metadata": {},
     "output_type": "execute_result"
    }
   ],
   "source": [
    "import os\n",
    "#*Дана некоторая директория (папка). Посчитайте количество файлов в данной директории (папке) и выведите на\n",
    "#экран.\n",
    "\n",
    "path = './'\n",
    "files_and_folders = os.listdir(path)\n",
    "\n",
    "files = list(filter(lambda x: os.path.isdir(path + x) == False, files_and_folders))\n",
    "\n",
    "len(files)\n",
    "\n",
    "\n",
    "\n"
   ]
  },
  {
   "cell_type": "code",
   "execution_count": null,
   "metadata": {},
   "outputs": [],
   "source": []
  }
 ],
 "metadata": {
  "kernelspec": {
   "display_name": "Python 3",
   "language": "python",
   "name": "python3"
  },
  "language_info": {
   "codemirror_mode": {
    "name": "ipython",
    "version": 3
   },
   "file_extension": ".py",
   "mimetype": "text/x-python",
   "name": "python",
   "nbconvert_exporter": "python",
   "pygments_lexer": "ipython3",
   "version": "3.6.5"
  }
 },
 "nbformat": 4,
 "nbformat_minor": 2
}
