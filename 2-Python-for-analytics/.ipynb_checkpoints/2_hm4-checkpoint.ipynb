{
 "cells": [
  {
   "cell_type": "markdown",
   "metadata": {},
   "source": [
    "### Задание - 1\n",
    "Напишите функцию date_range, которая возвращает список дней между датами start_date и end_date. Даты должны вводиться в формате YYYY-MM-DD."
   ]
  },
  {
   "cell_type": "code",
   "execution_count": 8,
   "metadata": {},
   "outputs": [
    {
     "name": "stdout",
     "output_type": "stream",
     "text": [
      "['2018-11-23', '2018-11-24']\n"
     ]
    }
   ],
   "source": [
    "from dateutil.parser import parse\n",
    "from datetime import datetime, timedelta\n",
    "\n",
    "def date_range(start_date, end_date):\n",
    "    dt1 = parse(start_date)\n",
    "    dt2 = parse(end_date)\n",
    "    interval = dt2 - dt1\n",
    "    \n",
    "    return [(dt1 + timedelta(days=d)).strftime(\"%Y-%m-%d\") for d in range(1, interval.days)]        \n",
    "    \n",
    "print(date_range(\"2018-11-22\", \"2018-11-25\"))"
   ]
  },
  {
   "cell_type": "markdown",
   "metadata": {},
   "source": [
    "### Задание - 2\n",
    "Дополните функцию из первого задания проверкой на корректность дат. В случае неверного формата или если start_date > end_date должен возвращаться пустой список."
   ]
  },
  {
   "cell_type": "code",
   "execution_count": 15,
   "metadata": {},
   "outputs": [
    {
     "name": "stdout",
     "output_type": "stream",
     "text": [
      "[]\n"
     ]
    }
   ],
   "source": [
    "from dateutil.parser import parse\n",
    "from datetime import datetime, timedelta\n",
    "\n",
    "def date_range(start_date, end_date):\n",
    "    dt1 = parse(start_date)\n",
    "    dt2 = parse(end_date)\n",
    "    if dt1 > dt2:\n",
    "        return []\n",
    "    \n",
    "    interval = dt2 - dt1\n",
    "    \n",
    "    return [(dt1 + timedelta(days=d)).strftime(\"%Y-%m-%d\") for d in range(1, interval.days)]        \n",
    "    \n",
    "print(date_range(\"2018-11-25\", \"2018-11-22\"))"
   ]
  },
  {
   "cell_type": "markdown",
   "metadata": {},
   "source": [
    "### Задание - 3\n",
    "Дан поток дат в формате YYYY-MM-DD, в которых встречаются некорректные значения: stream = ['2018-04-02', '2018-02-29', '2018-19-02'] Напишите функцию, которая проверяет эти даты на корректность. Т.е. для каждой даты возвращает True (дата корректна) или False (некорректная дата)."
   ]
  },
  {
   "cell_type": "code",
   "execution_count": 11,
   "metadata": {},
   "outputs": [
    {
     "name": "stdout",
     "output_type": "stream",
     "text": [
      "2018-04-02 - True\n",
      "2018-02-29 - False\n",
      "2018-19-02 - False\n"
     ]
    }
   ],
   "source": [
    "from dateutil.parser import parse\n",
    "\n",
    "stream = ['2018-04-02', '2018-02-29', '2018-19-02']\n",
    "\n",
    "for d in stream:\n",
    "    try:\n",
    "        check = parse(d)\n",
    "        if check:\n",
    "            print(\"%(date)s - %(check)s\" % {\"date\": d, \"check\": \"True\"})\n",
    "    except ValueError:\n",
    "        print(\"%(date)s - %(check)s\" % {\"date\": d, \"check\": \"False\"})"
   ]
  },
  {
   "cell_type": "markdown",
   "metadata": {},
   "source": [
    "### Задание - 4 \n",
    "Напишите функцию, которая возвращает список дат с 1 по вчерашний день текущего месяца. Если дан 1 день месяца, то возвращается список дней прошлого месяца."
   ]
  },
  {
   "cell_type": "code",
   "execution_count": 12,
   "metadata": {},
   "outputs": [
    {
     "data": {
      "text/plain": [
       "[datetime.date(2018, 9, 1),\n",
       " datetime.date(2018, 9, 2),\n",
       " datetime.date(2018, 9, 3),\n",
       " datetime.date(2018, 9, 4),\n",
       " datetime.date(2018, 9, 5),\n",
       " datetime.date(2018, 9, 6),\n",
       " datetime.date(2018, 9, 7),\n",
       " datetime.date(2018, 9, 8),\n",
       " datetime.date(2018, 9, 9),\n",
       " datetime.date(2018, 9, 10),\n",
       " datetime.date(2018, 9, 11),\n",
       " datetime.date(2018, 9, 12),\n",
       " datetime.date(2018, 9, 13),\n",
       " datetime.date(2018, 9, 14),\n",
       " datetime.date(2018, 9, 15),\n",
       " datetime.date(2018, 9, 16),\n",
       " datetime.date(2018, 9, 17),\n",
       " datetime.date(2018, 9, 18)]"
      ]
     },
     "execution_count": 12,
     "metadata": {},
     "output_type": "execute_result"
    }
   ],
   "source": [
    "from datetime import datetime, date\n",
    "import calendar\n",
    "\n",
    "def print_days():\n",
    "    now = datetime.now()\n",
    "    current_day = now.day\n",
    "    year = now.year\n",
    "    month = now.month\n",
    "    if current_day > 1:\n",
    "        num_days = calendar.monthrange(year, month)[1]\n",
    "        days = [date(year, month, day) for day in range(1, current_day)]\n",
    "        return days\n",
    "    else:\n",
    "        year = now.year\n",
    "        month = now.month - 1\n",
    "        if month == 0:\n",
    "            month = 12\n",
    "            year = year - 1\n",
    "        num_days = calendar.monthrange(year, month)[1]\n",
    "        return [date(year, month, day) for day in range(1, num_days)]\n",
    "\n",
    "print_days()"
   ]
  },
  {
   "cell_type": "markdown",
   "metadata": {},
   "source": [
    "### Задание - 5\n",
    "Напишите функцию, которая возвращает точную дату в формате YYYY-MM-DD по фразе:\n",
    "1. 'today' - сегодняшнюю дату\n",
    "2. 'last monday' -  прошлый понедельник\n",
    "3. 'last day' - Последний день текущего месяца"
   ]
  },
  {
   "cell_type": "code",
   "execution_count": 13,
   "metadata": {},
   "outputs": [
    {
     "data": {
      "text/plain": [
       "'2018-09-19'"
      ]
     },
     "execution_count": 13,
     "metadata": {},
     "output_type": "execute_result"
    }
   ],
   "source": [
    "from datetime import datetime, date, timedelta\n",
    "import calendar\n",
    "\n",
    "def f(s = \"today\"):\n",
    "    now = datetime.now()\n",
    "    if s == \"last day\":\n",
    "        d = date(year=now.year, month=now.month, day=calendar.monthrange(now.year, now.month)[1])\n",
    "        return d.strftime(\"%Y-%m-%d\")\n",
    "    elif s == \"last monday\":\n",
    "        dayofweek = now.weekday()\n",
    "        if dayofweek > 0:\n",
    "            d = now - timedelta(days=dayofweek)\n",
    "        else:\n",
    "            d = now - timedelta(days=7)\n",
    "            \n",
    "        return d.strftime(\"%Y-%m-%d\")\n",
    "    else:\n",
    "        return now.strftime(\"%Y-%m-%d\")\n",
    "\n",
    "f()"
   ]
  },
  {
   "cell_type": "markdown",
   "metadata": {},
   "source": [
    "### Задание - 6\n",
    "Напишите функцию, которая разбивает на недели с понедельника по воскресенье интервал дат между start_date и end_date. Считайте, что входные данные всегда корректны. В ответ должны входить только полные недели."
   ]
  },
  {
   "cell_type": "code",
   "execution_count": 14,
   "metadata": {},
   "outputs": [
    {
     "data": {
      "text/plain": [
       "[['2018-09-03',\n",
       "  '2018-09-04',\n",
       "  '2018-09-05',\n",
       "  '2018-09-06',\n",
       "  '2018-09-07',\n",
       "  '2018-09-08',\n",
       "  '2018-09-09'],\n",
       " ['2018-09-10',\n",
       "  '2018-09-11',\n",
       "  '2018-09-12',\n",
       "  '2018-09-13',\n",
       "  '2018-09-14',\n",
       "  '2018-09-15',\n",
       "  '2018-09-16']]"
      ]
     },
     "execution_count": 14,
     "metadata": {},
     "output_type": "execute_result"
    }
   ],
   "source": [
    "from dateutil.parser import parse\n",
    "from datetime import datetime, date, timedelta\n",
    "\n",
    "def fweek(start_date, end_date):\n",
    "    d1 = parse(start_date)\n",
    "    d2 = parse(end_date)\n",
    "    interval = d2 - d1\n",
    "    days = interval.days\n",
    "    \n",
    "    week_started = False\n",
    "    current_day = d1.weekday()\n",
    "    current_week = []\n",
    "    if current_day == 0:\n",
    "        week_started = True\n",
    "        current_week.append(d1.strftime(\"%Y-%m-%d\"))\n",
    "    weeks = []\n",
    "    \n",
    "    for d in range(1, days + 1):\n",
    "        d = d1 + timedelta(days=d)\n",
    "        dayofweek = d.weekday()\n",
    "        if dayofweek > 0 and week_started:\n",
    "            current_week.append(d.strftime(\"%Y-%m-%d\"))\n",
    "        elif dayofweek == 0 and week_started:\n",
    "            weeks.append(current_week)\n",
    "            current_week = []\n",
    "            current_week.append(d.strftime(\"%Y-%m-%d\"))\n",
    "        elif dayofweek == 0 and week_started == False:\n",
    "            current_week.append(d.strftime(\"%Y-%m-%d\"))\n",
    "            week_started = True\n",
    "    \n",
    "    return weeks\n",
    "        \n",
    "    \n",
    "fweek(\"2018-09-01\", \"2018-09-20\")"
   ]
  },
  {
   "cell_type": "code",
   "execution_count": null,
   "metadata": {},
   "outputs": [],
   "source": []
  }
 ],
 "metadata": {
  "kernelspec": {
   "display_name": "Python 3",
   "language": "python",
   "name": "python3"
  },
  "language_info": {
   "codemirror_mode": {
    "name": "ipython",
    "version": 3
   },
   "file_extension": ".py",
   "mimetype": "text/x-python",
   "name": "python",
   "nbconvert_exporter": "python",
   "pygments_lexer": "ipython3",
   "version": "3.6.5"
  }
 },
 "nbformat": 4,
 "nbformat_minor": 2
}
