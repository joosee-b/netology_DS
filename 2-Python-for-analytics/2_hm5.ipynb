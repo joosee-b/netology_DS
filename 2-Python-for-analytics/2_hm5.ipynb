{
 "cells": [
  {
   "cell_type": "code",
   "execution_count": 2,
   "metadata": {},
   "outputs": [
    {
     "data": {
      "text/plain": [
       "array([9, 8, 7, 6, 5, 4, 3, 2, 1, 0])"
      ]
     },
     "execution_count": 2,
     "metadata": {},
     "output_type": "execute_result"
    }
   ],
   "source": [
    "import numpy as np\n",
    "#Создайте numpy array с элементами от числа N до 0\n",
    "# (например, для N = 10 это будет array([9, 8, 7, 6, 5, 4, 3, 2, 1, 0])).\n",
    "N = 10\n",
    "arr = np.arange(N)\n",
    "reversed_arr = arr[::-1]\n",
    "reversed_arr"
   ]
  },
  {
   "cell_type": "code",
   "execution_count": 3,
   "metadata": {},
   "outputs": [
    {
     "name": "stdout",
     "output_type": "stream",
     "text": [
      "Sum: 30\n"
     ]
    },
    {
     "data": {
      "text/plain": [
       "array([[15,  0,  0,  0],\n",
       "       [ 0, 10,  0,  0],\n",
       "       [ 0,  0,  5,  0],\n",
       "       [ 0,  0,  0,  0]])"
      ]
     },
     "execution_count": 3,
     "metadata": {},
     "output_type": "execute_result"
    }
   ],
   "source": [
    "# Создайте диагональную матрицу с элементами от N до 0.\n",
    "# Посчитайте сумму ее значений на диагонали.\n",
    "N = 16\n",
    "arr = np.arange(N)\n",
    "reversed_arr = arr[::-1]\n",
    "m = reversed_arr.reshape((4, 4))\n",
    "s = sum(np.diag(m))\n",
    "print(\"Sum: %s\" % (s))\n",
    "np.diag(np.diag(m))"
   ]
  },
  {
   "cell_type": "code",
   "execution_count": 120,
   "metadata": {},
   "outputs": [
    {
     "data": {
      "text/html": [
       "<div>\n",
       "<style scoped>\n",
       "    .dataframe tbody tr th:only-of-type {\n",
       "        vertical-align: middle;\n",
       "    }\n",
       "\n",
       "    .dataframe tbody tr th {\n",
       "        vertical-align: top;\n",
       "    }\n",
       "\n",
       "    .dataframe thead th {\n",
       "        text-align: right;\n",
       "    }\n",
       "</style>\n",
       "<table border=\"1\" class=\"dataframe\">\n",
       "  <thead>\n",
       "    <tr style=\"text-align: right;\">\n",
       "      <th></th>\n",
       "      <th>id_movie</th>\n",
       "      <th>name</th>\n",
       "      <th>janr</th>\n",
       "    </tr>\n",
       "  </thead>\n",
       "  <tbody>\n",
       "    <tr>\n",
       "      <th>2789</th>\n",
       "      <td>2858</td>\n",
       "      <td>American Beauty (1999)</td>\n",
       "      <td>Comedy|Drama</td>\n",
       "    </tr>\n",
       "  </tbody>\n",
       "</table>\n",
       "</div>"
      ],
      "text/plain": [
       "      id_movie                    name          janr\n",
       "2789      2858  American Beauty (1999)  Comedy|Drama"
      ]
     },
     "execution_count": 120,
     "metadata": {},
     "output_type": "execute_result"
    }
   ],
   "source": [
    "#Задание 3\n",
    "# Скачайте с сайта https://grouplens.org/datasets/movielens/ \n",
    "# датасет любого размера. Определите какому фильму было \n",
    "# выставлено больше всего оценок 5.0.\n",
    "movies_file = 'movies.dat'\n",
    "rating_file = 'ratings.dat'\n",
    "\n",
    "df_movies = pd.io.parsers.read_csv(movies_file, delimiter=\"::\", engine='python', names=['id_movie', 'name', 'janr'])\n",
    "df_ratings = pd.io.parsers.read_csv(rating_file, delimiter=\"::\", engine='python', names=['UserID', 'MovieID', 'Rating', 'Timestamp'])\n",
    "\n",
    "Movie = df_ratings[df_ratings.Rating == 5].groupby('MovieID').sum().sort_values('Rating', ascending=False).head(1)\n",
    "movie_id = Movie.index.tolist()[0]\n",
    "df_movies[df_movies.id_movie == movie_id]"
   ]
  },
  {
   "cell_type": "code",
   "execution_count": 68,
   "metadata": {},
   "outputs": [
    {
     "data": {
      "text/html": [
       "<div>\n",
       "<style scoped>\n",
       "    .dataframe tbody tr th:only-of-type {\n",
       "        vertical-align: middle;\n",
       "    }\n",
       "\n",
       "    .dataframe tbody tr th {\n",
       "        vertical-align: top;\n",
       "    }\n",
       "\n",
       "    .dataframe thead th {\n",
       "        text-align: right;\n",
       "    }\n",
       "</style>\n",
       "<table border=\"1\" class=\"dataframe\">\n",
       "  <thead>\n",
       "    <tr style=\"text-align: right;\">\n",
       "      <th></th>\n",
       "      <th>year</th>\n",
       "      <th>quantity</th>\n",
       "      <th>category</th>\n",
       "    </tr>\n",
       "    <tr>\n",
       "      <th>country</th>\n",
       "      <th></th>\n",
       "      <th></th>\n",
       "      <th></th>\n",
       "    </tr>\n",
       "  </thead>\n",
       "  <tbody>\n",
       "    <tr>\n",
       "      <th>Estonia</th>\n",
       "      <td>162590</td>\n",
       "      <td>63440.0</td>\n",
       "      <td>1446</td>\n",
       "    </tr>\n",
       "    <tr>\n",
       "      <th>Latvia</th>\n",
       "      <td>142533</td>\n",
       "      <td>54844.0</td>\n",
       "      <td>1491</td>\n",
       "    </tr>\n",
       "    <tr>\n",
       "      <th>Lithuania</th>\n",
       "      <td>397510</td>\n",
       "      <td>122197.0</td>\n",
       "      <td>3042</td>\n",
       "    </tr>\n",
       "  </tbody>\n",
       "</table>\n",
       "</div>"
      ],
      "text/plain": [
       "             year  quantity  category\n",
       "country                              \n",
       "Estonia    162590   63440.0      1446\n",
       "Latvia     142533   54844.0      1491\n",
       "Lithuania  397510  122197.0      3042"
      ]
     },
     "execution_count": 68,
     "metadata": {},
     "output_type": "execute_result"
    }
   ],
   "source": [
    "# Задание 4\n",
    "# По данным файла power.csv посчитайте суммарное потребление стран\n",
    "# Прибалтики (Латвия, Литва и Эстония) категорий 4, 12 и 21 за период с 2005 по 2010 года.\n",
    "# Не учитывайте в расчетах отрицательные значения quantity.\n",
    "\n",
    "import pandas as pd\n",
    "\n",
    "df = pd.io.parsers.read_csv(\"power.csv\", low_memory=False)\n",
    "years = [y for y in range(2005, 2011)]\n",
    "filtered = df[df.category.isin([4,12,21]) & df.country.isin(['Latvia', 'Lithuania', 'Estonia']) & df.quantity > 0]\n",
    "filtered[filtered.year.isin(years)].groupby(\"country\").sum()\n"
   ]
  },
  {
   "cell_type": "code",
   "execution_count": 1,
   "metadata": {},
   "outputs": [],
   "source": [
    "# Задание 5\n",
    "# Решите систему уравнений:\n",
    "# 4x + 2y + z = 4\n",
    "# x + 3y = 12\n",
    "# 5y + 4z = -3"
   ]
  },
  {
   "cell_type": "code",
   "execution_count": 2,
   "metadata": {},
   "outputs": [
    {
     "name": "stdout",
     "output_type": "stream",
     "text": [
      "x = 0.466667, y = 3.844444, z = -5.555556\n"
     ]
    }
   ],
   "source": [
    "from numpy import linalg\n",
    "import numpy as np\n",
    "\n",
    "a = np.array([[4, 2, 1], [1, 3, 0], [0, 5, 4]])\n",
    "b = np.array([4, 12, -3])\n",
    "answers = linalg.solve(a, b)\n",
    "[x, y, z] = answers\n",
    "\n",
    "print(\"x = %f, y = %f, z = %f\" % (x, y, z))"
   ]
  },
  {
   "cell_type": "code",
   "execution_count": null,
   "metadata": {},
   "outputs": [],
   "source": []
  }
 ],
 "metadata": {
  "kernelspec": {
   "display_name": "Python 3",
   "language": "python",
   "name": "python3"
  },
  "language_info": {
   "codemirror_mode": {
    "name": "ipython",
    "version": 3
   },
   "file_extension": ".py",
   "mimetype": "text/x-python",
   "name": "python",
   "nbconvert_exporter": "python",
   "pygments_lexer": "ipython3",
   "version": "3.6.5"
  }
 },
 "nbformat": 4,
 "nbformat_minor": 2
}
