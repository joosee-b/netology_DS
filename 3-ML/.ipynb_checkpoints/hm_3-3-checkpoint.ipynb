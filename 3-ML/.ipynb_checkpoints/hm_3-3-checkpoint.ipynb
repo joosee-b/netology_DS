{
 "cells": [
  {
   "cell_type": "markdown",
   "metadata": {},
   "source": [
    "**Задания:**\n",
    "\n",
    "1. Провести анализ данных. Много хороших примеров анализа можно посмотреть здесь https://www.kaggle.com/c/kobe-bryant-shot-selection/kernels\n",
    "2. Подготовить фичи для обучения модели - нагенерить признаков, обработать пропущенные значения, проверить на возможные выбросы, обработать категориальные признаки и др.\n",
    "3. Обучить линейную модель, Lasso, Ridge на тех же признаках - построить сравнительную таблицу коэффициентов, сделать заключения о том, как меняется величина коэффициентов, какие зануляются. Посчитать RSS\n",
    "\n",
    "**Дополнительно**\n",
    "4. Сравнить результаты на тестовом наборе данных - сделать train_test_split в самом начале, подготовить переменные, сравнить результаты работы классификаторов (те же 3), метрика ROC AUC\n",
    "5. Построить PCA на подготовленных признаках, посмотреть, какие компоненты составляют наибольшую часть дисперсии целевой переменной"
   ]
  },
  {
   "cell_type": "code",
   "execution_count": 788,
   "metadata": {},
   "outputs": [],
   "source": [
    "import pandas as pd\n",
    "import numpy as np\n",
    "import matplotlib.pyplot as plt\n",
    "%matplotlib inline\n",
    "\n",
    "from sklearn.cross_validation import train_test_split\n",
    "from sklearn.metrics import roc_auc_score, roc_curve\n",
    "import xgboost\n",
    "import seaborn as sns\n",
    "from geopy.distance import vincenty"
   ]
  },
  {
   "cell_type": "code",
   "execution_count": 789,
   "metadata": {},
   "outputs": [],
   "source": [
    "data = pd.read_csv('data/Kobe.csv')"
   ]
  },
  {
   "cell_type": "code",
   "execution_count": 790,
   "metadata": {
    "scrolled": true
   },
   "outputs": [],
   "source": [
    "kobe_df = data[~np.isnan(data['shot_made_flag'])]\n",
    "kobe_df = kobe_df.drop(['team_id', 'team_name'], axis = 1)"
   ]
  },
  {
   "cell_type": "code",
   "execution_count": 791,
   "metadata": {},
   "outputs": [
    {
     "name": "stderr",
     "output_type": "stream",
     "text": [
      "/anaconda3/lib/python3.6/site-packages/ipykernel_launcher.py:4: SettingWithCopyWarning: \n",
      "A value is trying to be set on a copy of a slice from a DataFrame.\n",
      "Try using .loc[row_indexer,col_indexer] = value instead\n",
      "\n",
      "See the caveats in the documentation: http://pandas.pydata.org/pandas-docs/stable/indexing.html#indexing-view-versus-copy\n",
      "  after removing the cwd from sys.path.\n",
      "/anaconda3/lib/python3.6/site-packages/ipykernel_launcher.py:5: SettingWithCopyWarning: \n",
      "A value is trying to be set on a copy of a slice from a DataFrame.\n",
      "Try using .loc[row_indexer,col_indexer] = value instead\n",
      "\n",
      "See the caveats in the documentation: http://pandas.pydata.org/pandas-docs/stable/indexing.html#indexing-view-versus-copy\n",
      "  \"\"\"\n"
     ]
    }
   ],
   "source": [
    "# matchup and opponent teams compare\n",
    "kobe_df['matchup'] = kobe_df['matchup'].str.replace('vs.','@')\n",
    "match_opp_df = kobe_df[['matchup','opponent']]\n",
    "match_opp_df['matchup_2'] = match_opp_df['matchup'].str.replace('LAL @ ','')\n",
    "match_opp_df['check_equalty'] = match_opp_df['opponent'].str.lower() == match_opp_df['matchup_2'].str.lower()\n",
    "match_opp_df[match_opp_df['check_equalty'].astype(str).str.contains('False')].groupby(['opponent', 'matchup_2']).groups\n",
    "\n",
    "# remove matchup because matchup and opponents are the same\n",
    "kobe_df = kobe_df.drop(['matchup'], axis = 1)"
   ]
  },
  {
   "cell_type": "code",
   "execution_count": 792,
   "metadata": {},
   "outputs": [
    {
     "name": "stderr",
     "output_type": "stream",
     "text": [
      "/anaconda3/lib/python3.6/site-packages/ipykernel_launcher.py:3: SettingWithCopyWarning: \n",
      "A value is trying to be set on a copy of a slice from a DataFrame.\n",
      "Try using .loc[row_indexer,col_indexer] = value instead\n",
      "\n",
      "See the caveats in the documentation: http://pandas.pydata.org/pandas-docs/stable/indexing.html#indexing-view-versus-copy\n",
      "  This is separate from the ipykernel package so we can avoid doing imports until\n"
     ]
    }
   ],
   "source": [
    "#shots type compare\n",
    "shots_type_df = kobe_df[['action_type','combined_shot_type']]\n",
    "shots_type_df['concate_shots'] = shots_type_df[['action_type','combined_shot_type']].astype(str).sum(axis=1)\n",
    "\n",
    "#shots_type_df['concate_shots'].nunique()\n",
    "#shots_type_df['action_type'].nunique()\n",
    "\n",
    "# remove action_type because colums action_type and combined_shot_type have the same meaning\n",
    "kobe_df = kobe_df.drop(['action_type'], axis = 1)"
   ]
  },
  {
   "cell_type": "code",
   "execution_count": 793,
   "metadata": {},
   "outputs": [],
   "source": [
    "# remove other usless columns\n",
    "kobe_df = kobe_df.drop(['shot_zone_range'], axis = 1)\n",
    "#kobe_df = kobe_df.drop(['shot_id'], axis = 1)\n",
    "#kobe_df = kobe_df.drop(['game_event_id'], axis = 1)\n",
    "kobe_df = kobe_df.drop(['shot_type'], axis = 1)\n",
    "#kobe_df = kobe_df.drop(['lat'], axis = 1)\n",
    "#kobe_df = kobe_df.drop(['lon'], axis = 1)\n",
    "#kobe_df = kobe_df.drop(['game_date'], axis = 1)"
   ]
  },
  {
   "cell_type": "code",
   "execution_count": 794,
   "metadata": {},
   "outputs": [],
   "source": [
    "def get_woe_v1(kobe_df, col, target_col):\n",
    "    all_good = len(kobe_df[kobe_df[target_col] == 1][col])\n",
    "    all_bad = len(kobe_df[kobe_df[target_col] == 0][col])\n",
    "    odds_series = (\n",
    "        kobe_df[kobe_df[target_col] == 1][col].value_counts()\n",
    "        /\n",
    "        kobe_df[kobe_df[target_col] == 0][col].value_counts()\n",
    "    )\n",
    "    odds_series = odds_series / all_good * all_bad\n",
    "    category_woe_dict = np.log(odds_series).to_dict()\n",
    "    kobe_df[col + '_woe'] = kobe_df[col].apply(category_woe_dict.get)\n",
    "    return kobe_df"
   ]
  },
  {
   "cell_type": "code",
   "execution_count": 795,
   "metadata": {},
   "outputs": [],
   "source": [
    "# build counts\n",
    "columns_to_get_counts = [\n",
    "    'combined_shot_type',\n",
    "    'season',\n",
    "    'shot_zone_area',\n",
    "    'shot_zone_basic',\n",
    "    'game_date',\n",
    "    'opponent',\n",
    "]\n",
    "    \n",
    "for col_get_prob in columns_to_get_counts:\n",
    "    kobe_df = get_woe_v1(kobe_df, col_get_prob, 'shot_made_flag')"
   ]
  },
  {
   "cell_type": "code",
   "execution_count": 796,
   "metadata": {},
   "outputs": [],
   "source": [
    " woe_columns = [\n",
    "    col for col in kobe_df.columns.tolist()\n",
    "    if col not in set(\n",
    "        [\n",
    "            'combined_shot_type',\n",
    "            'season',\n",
    "            'shot_zone_area',\n",
    "            'shot_zone_basic',\n",
    "            'game_date',\n",
    "            'opponent',\n",
    "        ]\n",
    "    )\n",
    "]\n",
    "kobe_df_f = kobe_df[woe_columns]"
   ]
  },
  {
   "cell_type": "code",
   "execution_count": 797,
   "metadata": {},
   "outputs": [
    {
     "name": "stderr",
     "output_type": "stream",
     "text": [
      "/anaconda3/lib/python3.6/site-packages/pandas/core/frame.py:3787: SettingWithCopyWarning: \n",
      "A value is trying to be set on a copy of a slice from a DataFrame\n",
      "\n",
      "See the caveats in the documentation: http://pandas.pydata.org/pandas-docs/stable/indexing.html#indexing-view-versus-copy\n",
      "  downcast=downcast, **kwargs)\n"
     ]
    }
   ],
   "source": [
    "#kobe_df_f.game_date_woe.value_counts\n",
    "#kobe_df_f.isna().sum()\n",
    "kobe_df_f.fillna(0, inplace=True)\n",
    "kobe_df_f = kobe_df_f.astype(int)"
   ]
  },
  {
   "cell_type": "code",
   "execution_count": 798,
   "metadata": {},
   "outputs": [],
   "source": [
    "from sklearn.model_selection import train_test_split\n",
    "train_set, test_set = train_test_split(kobe_df_f, test_size=0.2, random_state=42)"
   ]
  },
  {
   "cell_type": "code",
   "execution_count": 799,
   "metadata": {},
   "outputs": [],
   "source": [
    "from sklearn.base import BaseEstimator, TransformerMixin\n",
    "\n",
    "class DataFrameSelector(BaseEstimator, TransformerMixin):\n",
    "    def __init__(self, attribute_names):\n",
    "        self.attribute_names = attribute_names\n",
    "    def fit(self, X, y=None):\n",
    "        return self\n",
    "    def transform(self, X):\n",
    "        return X[self.attribute_names].values"
   ]
  },
  {
   "cell_type": "code",
   "execution_count": 800,
   "metadata": {},
   "outputs": [],
   "source": [
    "from sklearn.pipeline import FeatureUnion\n",
    "from sklearn.pipeline import Pipeline\n",
    "from sklearn.preprocessing import StandardScaler, Imputer, LabelBinarizer\n",
    "\n",
    "num_attribs = train_set.columns.drop([\"shot_made_flag\"])\n",
    "\n",
    "num_pipeline = Pipeline([\n",
    "    ('selector', DataFrameSelector(num_attribs)),\n",
    "    ('imputer', Imputer(strategy=\"median\")),\n",
    "    ('std_scaler', StandardScaler()),\n",
    "])\n",
    "\n",
    "full_pipeline = FeatureUnion(transformer_list=[\n",
    "    (\"num_pipeline\", num_pipeline),\n",
    "])"
   ]
  },
  {
   "cell_type": "code",
   "execution_count": 801,
   "metadata": {},
   "outputs": [],
   "source": [
    "X_train = train_set.drop(\"shot_made_flag\", axis=1)\n",
    "y_train = train_set[\"shot_made_flag\"].copy()\n",
    "\n",
    "X_test = test_set.drop(\"shot_made_flag\", axis=1)\n",
    "y_test = test_set[\"shot_made_flag\"].copy()"
   ]
  },
  {
   "cell_type": "code",
   "execution_count": 802,
   "metadata": {},
   "outputs": [],
   "source": [
    "X_train_prepared = full_pipeline.fit_transform(X_train)\n",
    "X_test_prepared = full_pipeline.transform(X_test)"
   ]
  },
  {
   "cell_type": "code",
   "execution_count": 803,
   "metadata": {},
   "outputs": [
    {
     "data": {
      "text/plain": [
       "0.4767674299411664"
      ]
     },
     "execution_count": 803,
     "metadata": {},
     "output_type": "execute_result"
    }
   ],
   "source": [
    "from sklearn.metrics import mean_squared_error\n",
    "from sklearn.linear_model import LinearRegression\n",
    "\n",
    "lin_reg = LinearRegression().fit(X_train_prepared, y_train)\n",
    "y_pred = lin_reg.predict(X_test_prepared)\n",
    "mse = mean_squared_error(y_test, y_pred)\n",
    "rmse = np.sqrt(mse)\n",
    "rmse"
   ]
  },
  {
   "cell_type": "code",
   "execution_count": 804,
   "metadata": {},
   "outputs": [],
   "source": [
    "import statsmodels.api as sm\n",
    "import statsmodels.formula.api as smf"
   ]
  },
  {
   "cell_type": "code",
   "execution_count": 805,
   "metadata": {},
   "outputs": [],
   "source": [
    "_iteration_cols = train_set.columns.drop('shot_made_flag')"
   ]
  },
  {
   "cell_type": "code",
   "execution_count": 806,
   "metadata": {},
   "outputs": [],
   "source": [
    "def get_formula(_cols):\n",
    "    return 'shot_made_flag ~ ' + \" + \".join(_cols)"
   ]
  },
  {
   "cell_type": "code",
   "execution_count": 807,
   "metadata": {},
   "outputs": [
    {
     "name": "stdout",
     "output_type": "stream",
     "text": [
      "RMSE: 0.47693155353962624\n",
      "R^2: 0.08024288859531858\n"
     ]
    }
   ],
   "source": [
    "lm = smf.ols(get_formula(_iteration_cols), train_set).fit()\n",
    "rss = np.sum(lm.resid ** 2)\n",
    "rmse = np.sqrt(rss / len(lm.resid))\n",
    "print(\"RMSE:\", rmse)\n",
    "print(\"R^2:\", lm.rsquared)"
   ]
  },
  {
   "cell_type": "code",
   "execution_count": 808,
   "metadata": {},
   "outputs": [
    {
     "name": "stderr",
     "output_type": "stream",
     "text": [
      "/anaconda3/lib/python3.6/site-packages/statsmodels/regression/linear_model.py:1633: RuntimeWarning: divide by zero encountered in double_scalars\n",
      "  return np.sqrt(eigvals[0]/eigvals[-1])\n",
      "/anaconda3/lib/python3.6/site-packages/statsmodels/base/model.py:1100: RuntimeWarning: invalid value encountered in true_divide\n",
      "  return self.params / self.bse\n",
      "/anaconda3/lib/python3.6/site-packages/scipy/stats/_distn_infrastructure.py:879: RuntimeWarning: invalid value encountered in greater\n",
      "  return (self.a < x) & (x < self.b)\n",
      "/anaconda3/lib/python3.6/site-packages/scipy/stats/_distn_infrastructure.py:879: RuntimeWarning: invalid value encountered in less\n",
      "  return (self.a < x) & (x < self.b)\n",
      "/anaconda3/lib/python3.6/site-packages/scipy/stats/_distn_infrastructure.py:1821: RuntimeWarning: invalid value encountered in less_equal\n",
      "  cond2 = cond0 & (x <= self.a)\n"
     ]
    },
    {
     "data": {
      "text/html": [
       "<table class=\"simpletable\">\n",
       "<tr>\n",
       "             <td></td>               <th>coef</th>     <th>std err</th>      <th>t</th>      <th>P>|t|</th>  <th>[0.025</th>    <th>0.975]</th>  \n",
       "</tr>\n",
       "<tr>\n",
       "  <th>Intercept</th>              <td> 5.615e-05</td> <td> 2.87e-05</td> <td>    1.954</td> <td> 0.051</td> <td>-1.81e-07</td> <td>    0.000</td>\n",
       "</tr>\n",
       "<tr>\n",
       "  <th>game_event_id</th>          <td> 7.379e-05</td> <td>    0.000</td> <td>    0.577</td> <td> 0.564</td> <td>   -0.000</td> <td>    0.000</td>\n",
       "</tr>\n",
       "<tr>\n",
       "  <th>game_id</th>                <td> -4.83e-09</td> <td> 1.44e-09</td> <td>   -3.356</td> <td> 0.001</td> <td>-7.65e-09</td> <td>-2.01e-09</td>\n",
       "</tr>\n",
       "<tr>\n",
       "  <th>lat</th>                    <td>   -0.0045</td> <td>    0.012</td> <td>   -0.383</td> <td> 0.702</td> <td>   -0.028</td> <td>    0.019</td>\n",
       "</tr>\n",
       "<tr>\n",
       "  <th>loc_x</th>                  <td> 1.431e-05</td> <td> 3.04e-05</td> <td>    0.471</td> <td> 0.638</td> <td>-4.52e-05</td> <td> 7.38e-05</td>\n",
       "</tr>\n",
       "<tr>\n",
       "  <th>loc_y</th>                  <td>    0.0002</td> <td>  8.6e-05</td> <td>    1.890</td> <td> 0.059</td> <td>-6.01e-06</td> <td>    0.000</td>\n",
       "</tr>\n",
       "<tr>\n",
       "  <th>lon</th>                    <td>   -0.0066</td> <td>    0.003</td> <td>   -1.954</td> <td> 0.051</td> <td>   -0.013</td> <td> 2.14e-05</td>\n",
       "</tr>\n",
       "<tr>\n",
       "  <th>minutes_remaining</th>      <td>    0.0038</td> <td>    0.002</td> <td>    2.367</td> <td> 0.018</td> <td>    0.001</td> <td>    0.007</td>\n",
       "</tr>\n",
       "<tr>\n",
       "  <th>period</th>                 <td>   -0.0181</td> <td>    0.016</td> <td>   -1.134</td> <td> 0.257</td> <td>   -0.050</td> <td>    0.013</td>\n",
       "</tr>\n",
       "<tr>\n",
       "  <th>playoffs</th>               <td>    0.0908</td> <td>    0.025</td> <td>    3.565</td> <td> 0.000</td> <td>    0.041</td> <td>    0.141</td>\n",
       "</tr>\n",
       "<tr>\n",
       "  <th>seconds_remaining</th>      <td>    0.0006</td> <td>    0.000</td> <td>    3.064</td> <td> 0.002</td> <td>    0.000</td> <td>    0.001</td>\n",
       "</tr>\n",
       "<tr>\n",
       "  <th>shot_distance</th>          <td>   -0.0090</td> <td>    0.001</td> <td>  -14.146</td> <td> 0.000</td> <td>   -0.010</td> <td>   -0.008</td>\n",
       "</tr>\n",
       "<tr>\n",
       "  <th>shot_id</th>                <td> 4.893e-07</td> <td> 6.45e-07</td> <td>    0.758</td> <td> 0.448</td> <td>-7.76e-07</td> <td> 1.75e-06</td>\n",
       "</tr>\n",
       "<tr>\n",
       "  <th>combined_shot_type_woe</th> <td>    0.1957</td> <td>    0.009</td> <td>   22.534</td> <td> 0.000</td> <td>    0.179</td> <td>    0.213</td>\n",
       "</tr>\n",
       "<tr>\n",
       "  <th>season_woe</th>             <td>-2.859e-17</td> <td> 2.49e-18</td> <td>  -11.470</td> <td> 0.000</td> <td>-3.35e-17</td> <td>-2.37e-17</td>\n",
       "</tr>\n",
       "<tr>\n",
       "  <th>shot_zone_area_woe</th>     <td>    0.0504</td> <td>    0.040</td> <td>    1.259</td> <td> 0.208</td> <td>   -0.028</td> <td>    0.129</td>\n",
       "</tr>\n",
       "<tr>\n",
       "  <th>shot_zone_basic_woe</th>    <td>   -0.0468</td> <td>    0.058</td> <td>   -0.814</td> <td> 0.416</td> <td>   -0.160</td> <td>    0.066</td>\n",
       "</tr>\n",
       "<tr>\n",
       "  <th>game_date_woe</th>          <td>    0.2324</td> <td>    0.013</td> <td>   17.524</td> <td> 0.000</td> <td>    0.206</td> <td>    0.258</td>\n",
       "</tr>\n",
       "<tr>\n",
       "  <th>opponent_woe</th>           <td>         0</td> <td>        0</td> <td>      nan</td> <td>   nan</td> <td>        0</td> <td>        0</td>\n",
       "</tr>\n",
       "</table>"
      ],
      "text/plain": [
       "<class 'statsmodels.iolib.table.SimpleTable'>"
      ]
     },
     "execution_count": 808,
     "metadata": {},
     "output_type": "execute_result"
    }
   ],
   "source": [
    "lm_res = lm.summary()\n",
    "lm_res.tables[1]"
   ]
  },
  {
   "cell_type": "code",
   "execution_count": 809,
   "metadata": {},
   "outputs": [],
   "source": [
    "from sklearn.linear_model import LinearRegression, Ridge, Lasso"
   ]
  },
  {
   "cell_type": "code",
   "execution_count": 810,
   "metadata": {},
   "outputs": [],
   "source": [
    "xdf = train_set.copy()\n",
    "y = xdf['shot_made_flag']\n",
    "xdf.drop(columns = ['shot_made_flag'])\n",
    "X = xdf.values"
   ]
  },
  {
   "cell_type": "code",
   "execution_count": 811,
   "metadata": {},
   "outputs": [
    {
     "name": "stdout",
     "output_type": "stream",
     "text": [
      "0.09495019913825031\n"
     ]
    }
   ],
   "source": [
    "rg = Ridge(alpha=1000).fit(X, y)\n",
    "print(rg.intercept_)"
   ]
  },
  {
   "cell_type": "code",
   "execution_count": 812,
   "metadata": {},
   "outputs": [
    {
     "name": "stdout",
     "output_type": "stream",
     "text": [
      "0.5316195762679892\n"
     ]
    }
   ],
   "source": [
    "rg = Lasso().fit(X, y)\n",
    "print(rg.intercept_)"
   ]
  },
  {
   "cell_type": "code",
   "execution_count": 813,
   "metadata": {},
   "outputs": [
    {
     "name": "stdout",
     "output_type": "stream",
     "text": [
      "Train:  0.73\n",
      "Test:  0.63\n"
     ]
    }
   ],
   "source": [
    "from sklearn.metrics import roc_auc_score, roc_curve\n",
    "import xgboost\n",
    "\n",
    "xgb = xgboost.XGBClassifier(max_depth=5, n_jobs=-1)\n",
    "xgb.fit(X_train, y_train)\n",
    "y_train_predict = xgb.predict_proba(X_train)[:, 1]\n",
    "y_test_predict = xgb.predict_proba(X_test)[:, 1]\n",
    "roc_auc_train = np.round(roc_auc_score(y_train, y_train_predict), 2)\n",
    "roc_auc_test = np.round(roc_auc_score(y_test, y_test_predict), 2)\n",
    "print(\"Train: \", roc_auc_train)\n",
    "print(\"Test: \", roc_auc_test)"
   ]
  },
  {
   "cell_type": "code",
   "execution_count": 814,
   "metadata": {},
   "outputs": [
    {
     "data": {
      "image/png": "[encoded data removed]",
      "text/plain": [
       "<Figure size 720x720 with 1 Axes>"
      ]
     },
     "metadata": {},
     "output_type": "display_data"
    }
   ],
   "source": [
    "import matplotlib\n",
    "fpr_train, tpr_train, thresholds_train = roc_curve(y_train, y_train_predict)\n",
    "fpr_test, tpr_test, thresholds_test = roc_curve(y_test, y_test_predict)\n",
    "\n",
    "matplotlib.rcParams['figure.figsize'] = (10.0, 10.0)\n",
    "plt.plot(fpr_train, tpr_train, label='Train ROC AUC {0}'.format(roc_auc_train))\n",
    "plt.plot(fpr_test, tpr_test, label='Test ROC AUC {0}'.format(roc_auc_test))\n",
    "plt.plot([0, 1], [0, 1], '--', color=(0.6, 0.6, 0.6))\n",
    "plt.xlim([0, 1])\n",
    "plt.ylim([0, 1])\n",
    "plt.xlabel('False Positive Rate')\n",
    "plt.ylabel('True Positive Rate')\n",
    "plt.title('XGB Classifier', size=16)\n",
    "plt.legend(loc='lower right')\n",
    "plt.show()"
   ]
  },
  {
   "cell_type": "code",
   "execution_count": 787,
   "metadata": {},
   "outputs": [
    {
     "data": {
      "image/png": "[encoded data removed]",
      "text/plain": [
       "<Figure size 1440x360 with 1 Axes>"
      ]
     },
     "metadata": {},
     "output_type": "display_data"
    }
   ],
   "source": [
    "matplotlib.rcParams['figure.figsize'] = (20, 5)\n",
    "xgboost.plot_importance(booster=xgb)\n",
    "plt.savefig('tree_importance_test1.png')"
   ]
  },
  {
   "cell_type": "code",
   "execution_count": null,
   "metadata": {},
   "outputs": [],
   "source": []
  }
 ],
 "metadata": {
  "kernelspec": {
   "display_name": "Python 3",
   "language": "python",
   "name": "python3"
  },
  "language_info": {
   "codemirror_mode": {
    "name": "ipython",
    "version": 3
   },
   "file_extension": ".py",
   "mimetype": "text/x-python",
   "name": "python",
   "nbconvert_exporter": "python",
   "pygments_lexer": "ipython3",
   "version": "3.6.5"
  }
 },
 "nbformat": 4,
 "nbformat_minor": 2
}
