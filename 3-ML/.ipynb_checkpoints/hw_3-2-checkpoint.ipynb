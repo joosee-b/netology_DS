{
 "cells": [
  {
   "cell_type": "markdown",
   "metadata": {},
   "source": [
    "## Домашняя работа\n",
    "\n",
    "1. Наборы данных вида Transactions (несколько транзакций на одного клиента) трансформировать в таблицу, где cl_id будут уникальными (соответственно 4000 строк в train и 1000 строк в test\n",
    "2. Для каждого cl_id будет уникальное целевое событие target_flag, а также уникальный канал привлечения клиента channel_type (клиент привлекается лишь однажды и с самого начала его записи присваивается значение канала привлечения)\n",
    "3. При агрегации (*pandas.DataFrame.groupby*) по cl_id (или по связке cl_id, channel_type, target_flag) необходимо создавать производные фичи, идеи для таких фичей могут быть следующими:\n",
    "\n",
    "    - общая сумма транзакций по каждой из trx_category\n",
    "    - общая сумма транзакции по основным вылютам (напр. выделить рубли, доллары и евро - предположительно, это будут самые крупные категории)\n",
    "    - общая сумма транзакций по категориям MCC кодов (например, выбрать основные/популярные MCC коды). ВНИМАНИ! Некоторые MCC коды из train могут быть не представлены в test. Про MCC коды в целом: http://www.banki.ru/wikibank/mcc-kod/; Справочник MCC кодов: https://mcc-codes.ru/code; Про некоторые категории кэшбека Росбанка: https://mcc-codes.ru/card/rosbank-sverkh-plus;\n",
    "    - возможные агрегации по времени суток и дням недели - траты в выходные (праздники) или будни, в ночное время или в рабочее и т.д.\n",
    "4. **Обязательная часть**: провести первичный анализ данных - посмотреть распределения признаков, выделить самые популярные MCC, помотреть активность клиентов по дням недели/времени, какие категории транзакции (trx_category) наиболее популярны и т.д. Получить инсайты, которые в дальнейшем помогут вам правильно подготовить фичи\n",
    "5. **Дополнительная часть**: с отобранными фичами и полученными компонентами обучить модель (тип алгоритма на свой вкус, можно начать с линейной) и померить качество на локальном тестовом наборе данных (локальная валидация), который создается в этом ноутбуке. **Метрика оценки качества - ROC AUC**(https://en.wikipedia.org/wiki/Receiver_operating_characteristic)\n",
    "6. Задания принимаются в виде ноутбука с кодов/картинками выполненной обязательной части + указанием места в leaderboard при решении дополнительной\n",
    "\n",
    "При возникновении вопросов и для отправки домашнего задания - egsachko@gmail.com или http://fb.com/sachkoe\n",
    "    "
   ]
  },
  {
   "cell_type": "code",
   "execution_count": 1,
   "metadata": {},
   "outputs": [],
   "source": [
    "import pandas as pd\n",
    "import numpy as np\n",
    "import matplotlib.pyplot as plt\n",
    "%matplotlib inline\n",
    "import datetime\n",
    "import numpy as np\n",
    "from sklearn.metrics import roc_auc_score\n",
    "import xgboost\n",
    "import statsmodels.api as sm\n",
    "import statsmodels.formula.api as smf\n",
    "from sklearn import svm\n",
    "from sklearn.metrics import roc_auc_score, roc_curve"
   ]
  },
  {
   "cell_type": "code",
   "execution_count": 111,
   "metadata": {},
   "outputs": [],
   "source": [
    "raw_df = pd.read_csv('rosbank_train.csv')\n",
    "#raw_df.head(10)"
   ]
  },
  {
   "cell_type": "code",
   "execution_count": 8,
   "metadata": {},
   "outputs": [],
   "source": [
    "#raw_df[\"MCC\"].value_counts(normalize = True)\n",
    "# 5411    121640 - Бакалейные магазины, супермаркеты\n",
    "# 6011     54382 - Финансовые учреждения – снятие наличности автоматически\n",
    "# 5814     41351 - Фастфуд\n",
    "# 5812     30027 - Места общественного питания, рестораны\n",
    "# 5499     27237 - Различные продовольственные магазины - нигде более не классифицированные\n",
    "# 5541     19816 - Станции техобслуживания, с дополнительными услугами или без\n",
    "# 5912     18728 - Аптеки\n",
    "# 5999     13073 - Различные магазины и специальные розничные магазины\n",
    "# 6012     10056 - Финансовые учреждения – торговля и услуги"
   ]
  },
  {
   "cell_type": "markdown",
   "metadata": {},
   "source": [
    "##### Создаем таблицу df_trans_count со столбцами: суммарные траты, суммарный депозит, разница между этими величинами"
   ]
  },
  {
   "cell_type": "code",
   "execution_count": 116,
   "metadata": {},
   "outputs": [],
   "source": [
    "sum_income = raw_df[(raw_df['trx_category'].isin(['DEPOSIT','C2C_IN','BACK_TRX']))].groupby(['cl_id'])['amount'].sum()\n",
    "sum_income = sum_income.rename('sum_income')\n",
    "\n",
    "sum_outcome = raw_df[ ~ (raw_df['trx_category'].isin(['DEPOSIT','C2C_IN','BACK_TRX']))].groupby(['cl_id'])['amount'].sum()\n",
    "sum_outcome = sum_outcome.rename('sum_outcome')\n",
    "\n",
    "in_out_diff  = sum_income - sum_outcome\n",
    "in_out_diff = in_out_diff.rename('in_out_diff')\n",
    "\n",
    "\n",
    "target_flag_grouped = raw_df.groupby(['cl_id']).agg('target_flag').first()\n",
    "target_flag_grouped = target_flag_grouped.rename('target_flag')\n",
    "\n",
    "channel_type_grouped = raw_df.groupby(['cl_id']).agg('channel_type').first()\n",
    "channel_type_grouped = channel_type_grouped.rename('channel_type')\n",
    "\n",
    "df_trans_count = channel_type_grouped.reset_index().set_index('cl_id').join(target_flag_grouped).join(sum_income).join(sum_outcome).join(in_out_diff)\n",
    "df_trans_count = df_trans_count.reset_index(col_level=1)\n",
    "df_trans_count.replace({np.nan:0}, inplace=True)\n",
    "#df_trans_count.head(15)\n"
   ]
  },
  {
   "cell_type": "code",
   "execution_count": 12,
   "metadata": {},
   "outputs": [],
   "source": [
    "# Таблица сумма транзакций, минимальное и максимальное значение\n",
    "#df_cats_agg = raw_df.groupby(['cl_id']).agg({'amount':['sum','min','max']})\n",
    "#df_cats_agg = df_cats_agg.reset_index(col_level=1)\n",
    "#df_cats_agg.columns = df_cats_agg.columns.get_level_values(1)\n",
    "#df_cats_agg.head(5)\n",
    "\n",
    "#Джойним в таблицу df_trans_count\n",
    "#df_trans_count_min_max = df_cats_agg.set_index('cl_id').join(sum_income).join(sum_outcome).join(in_out_diff).join(target_flag_grouped)\n",
    "#df_trans_count_min_max.head(5)"
   ]
  },
  {
   "cell_type": "markdown",
   "metadata": {},
   "source": [
    "##### Таблицы по тратам по дням и по часам"
   ]
  },
  {
   "cell_type": "code",
   "execution_count": 13,
   "metadata": {},
   "outputs": [],
   "source": [
    "#Функция для получения транзакций по дням\n",
    "def transaction_by_day_count(dataset):\n",
    "    dataset['day_of_transaction'] = dataset['TRDATETIME'].apply( lambda x: (datetime.datetime.strptime(x, '%d%b%y:%H:%M:%S')).strftime('%w') ) \n",
    "    tmp_df = dataset.groupby(['cl_id','day_of_transaction'])['day_of_transaction'].size().unstack().fillna(0).reset_index()\n",
    "    old_columns = [old_col for old_col in tmp_df.columns.tolist() if old_col in dataset['day_of_transaction'].unique()]\n",
    "    tmp_df.rename(columns={old_col: 'day_' + old_col for old_col in old_columns}, inplace=True)\n",
    "    return tmp_df"
   ]
  },
  {
   "cell_type": "code",
   "execution_count": 148,
   "metadata": {},
   "outputs": [],
   "source": [
    "# Функция для получения транзакций по часам\n",
    "def transaction_by_hour_count(dataset):\n",
    "    dataset['hour_of_transaction'] = dataset['TRDATETIME'].apply( lambda x: (datetime.datetime.strptime(x, '%d%b%y:%H:%M:%S')).strftime('%H') ) \n",
    "    tmp_df = dataset.groupby(['cl_id', 'hour_of_transaction'])['hour_of_transaction'].size().unstack().fillna(0).reset_index()\n",
    "    old_columns = [old_col for old_col in tmp_df.columns.tolist() if old_col in dataset['hour_of_transaction'].unique()]\n",
    "    tmp_df.rename(columns={old_col: 'hour_' + old_col for old_col in old_columns}, inplace=True)\n",
    "    return tmp_df"
   ]
  },
  {
   "cell_type": "code",
   "execution_count": 153,
   "metadata": {},
   "outputs": [],
   "source": [
    "#Создаём таблицу с тратами по дням\n",
    "df_trans_day_count = transaction_by_day_count(raw_df)\n",
    "\n",
    "df_trans_day_count_f = channel_type_grouped.reset_index().set_index('cl_id').join(target_flag_grouped).join(df_trans_day_count.set_index('cl_id'))\n",
    "df_trans_day_count_f.replace({np.nan:0}, inplace=True)\n",
    "#df_trans_day_count_f.head(15)"
   ]
  },
  {
   "cell_type": "code",
   "execution_count": 155,
   "metadata": {},
   "outputs": [],
   "source": [
    "#Создаём таблицу с тратами по часам\n",
    "df_trans_hour_count = transaction_by_hour_count(raw_df)\n",
    "\n",
    "df_trans_hour_count_f = channel_type_grouped.reset_index().set_index('cl_id').join(target_flag_grouped).join(df_trans_hour_count.set_index('cl_id'))\n",
    "df_trans_hour_count_f.replace({np.nan:0}, inplace=True)\n",
    "#df_trans_hour_count_f.head(15)"
   ]
  },
  {
   "cell_type": "markdown",
   "metadata": {},
   "source": [
    "##### Создаём таблицу с самыми используемыми MCC - df_trans_mcc"
   ]
  },
  {
   "cell_type": "code",
   "execution_count": 117,
   "metadata": {},
   "outputs": [],
   "source": [
    "# 5411    121640 - Бакалейные магазины, супермаркеты\n",
    "# 6011     54382 - Финансовые учреждения – снятие наличности автоматически\n",
    "# 5814     41351 - Фастфуд\n",
    "# 5812     30027 - Места общественного питания, рестораны\n",
    "# 5499     27237 - Различные продовольственные магазины - нигде более не классифицированные\n",
    "# 5541     19816 - Станции техобслуживания, с дополнительными услугами или без\n",
    "# 5912     18728 - Аптеки\n",
    "# 5999     13073 - Различные магазины и специальные розничные магазины\n",
    "# 6012     10056 - Финансовые учреждения – торговля и услуги\n",
    "\n",
    "import sqlite3\n",
    "conn = sqlite3.connect('transactions.db')\n",
    "raw_df.to_sql('transactions_raw', if_exists='replace', con=conn)\n",
    "df_trans_mcc = pd.io.sql.read_sql(\"\"\"\n",
    "    select\n",
    "        cl_id,\n",
    "        sum(case when MCC = 5411 then amount else 0 end) as MCC5411,\n",
    "        sum(case when MCC = 6011 then amount else 0 end) as MCC6011,\n",
    "        sum(case when MCC = 5814 then amount else 0 end) as MCC5814,\n",
    "        sum(case when MCC = 5812 then amount else 0 end) as MCC5812,\n",
    "        sum(case when MCC = 5499 then amount else 0 end) as MCC5499,\n",
    "        sum(case when MCC = 5499 then amount else 0 end) as MCC5541,        \n",
    "        sum(case when MCC = 5912 then amount else 0 end) as MCC5912,\n",
    "        sum(case when MCC = 5999 then amount else 0 end) as MCC5999,\n",
    "        sum(case when MCC = 5999 then amount else 0 end) as MCC6012,\n",
    "        \n",
    "/*----------------------avgerage amount----------------------------*/  \n",
    "\n",
    "        avg(case when MCC = 5411 then amount else 0 end) as MCC5411_avg,\n",
    "        avg(case when MCC = 6011 then amount else 0 end) as MCC6011_avg,\n",
    "        avg(case when MCC = 5814 then amount else 0 end) as MCC5814_avg,\n",
    "        avg(case when MCC = 5812 then amount else 0 end) as MCC5812_avg,\n",
    "        avg(case when MCC = 5499 then amount else 0 end) as MCC5499_avg,\n",
    "        avg(case when MCC = 5499 then amount else 0 end) as MCC5541_avg,        \n",
    "        avg(case when MCC = 5912 then amount else 0 end) as MCC5912_avg,\n",
    "        avg(case when MCC = 5999 then amount else 0 end) as MCC5999_avg,\n",
    "        avg(case when MCC = 5999 then amount else 0 end) as MCC6012_avg\n",
    "        \n",
    "    from transactions_raw\n",
    "    group by 1\n",
    "    order by 1\n",
    "    \"\"\", conn)\n",
    "#df_trans_mcc.head(5)"
   ]
  },
  {
   "cell_type": "code",
   "execution_count": 118,
   "metadata": {},
   "outputs": [],
   "source": [
    "# Добавляем в таблицу df_trans_mcc столбцы channel_type и target_flag\n",
    "df_trans_mcc_f = channel_type_grouped.reset_index().set_index('cl_id').join(target_flag_grouped).join(df_trans_mcc.set_index('cl_id'))\n",
    "df_trans_mcc_f = df_trans_mcc_f.reset_index(col_level=1)\n",
    "df_trans_mcc_f.replace({np.nan:0}, inplace=True)\n",
    "#df_trans_mcc_f.head(5)"
   ]
  },
  {
   "cell_type": "markdown",
   "metadata": {},
   "source": [
    "#### Создаём финальную таблицу"
   ]
  },
  {
   "cell_type": "code",
   "execution_count": 140,
   "metadata": {},
   "outputs": [],
   "source": [
    "#df_trans_count.head(5)"
   ]
  },
  {
   "cell_type": "code",
   "execution_count": 141,
   "metadata": {},
   "outputs": [],
   "source": [
    "#df_trans_day_count.head(5)"
   ]
  },
  {
   "cell_type": "code",
   "execution_count": 142,
   "metadata": {},
   "outputs": [],
   "source": [
    "#df_trans_hour_count.head(5)"
   ]
  },
  {
   "cell_type": "code",
   "execution_count": 225,
   "metadata": {},
   "outputs": [
    {
     "data": {
      "text/html": [
       "<div>\n",
       "<style scoped>\n",
       "    .dataframe tbody tr th:only-of-type {\n",
       "        vertical-align: middle;\n",
       "    }\n",
       "\n",
       "    .dataframe tbody tr th {\n",
       "        vertical-align: top;\n",
       "    }\n",
       "\n",
       "    .dataframe thead th {\n",
       "        text-align: right;\n",
       "    }\n",
       "</style>\n",
       "<table border=\"1\" class=\"dataframe\">\n",
       "  <thead>\n",
       "    <tr style=\"text-align: right;\">\n",
       "      <th></th>\n",
       "      <th>cl_id</th>\n",
       "      <th>target_flag</th>\n",
       "      <th>sum_income</th>\n",
       "      <th>sum_outcome</th>\n",
       "      <th>in_out_diff</th>\n",
       "      <th>day_0</th>\n",
       "      <th>day_1</th>\n",
       "      <th>day_2</th>\n",
       "      <th>day_3</th>\n",
       "      <th>day_4</th>\n",
       "      <th>...</th>\n",
       "      <th>MCC6012</th>\n",
       "      <th>MCC5411_avg</th>\n",
       "      <th>MCC6011_avg</th>\n",
       "      <th>MCC5814_avg</th>\n",
       "      <th>MCC5812_avg</th>\n",
       "      <th>MCC5499_avg</th>\n",
       "      <th>MCC5541_avg</th>\n",
       "      <th>MCC5912_avg</th>\n",
       "      <th>MCC5999_avg</th>\n",
       "      <th>MCC6012_avg</th>\n",
       "    </tr>\n",
       "  </thead>\n",
       "  <tbody>\n",
       "    <tr>\n",
       "      <th>0</th>\n",
       "      <td>0</td>\n",
       "      <td>0</td>\n",
       "      <td>20000.0</td>\n",
       "      <td>44383.00</td>\n",
       "      <td>-24383.00</td>\n",
       "      <td>0.0</td>\n",
       "      <td>0.0</td>\n",
       "      <td>2.0</td>\n",
       "      <td>0.0</td>\n",
       "      <td>1.0</td>\n",
       "      <td>...</td>\n",
       "      <td>0.00</td>\n",
       "      <td>406.200000</td>\n",
       "      <td>4000.000000</td>\n",
       "      <td>0.000000</td>\n",
       "      <td>0.000000</td>\n",
       "      <td>0.000000</td>\n",
       "      <td>0.000000</td>\n",
       "      <td>0.000000</td>\n",
       "      <td>0.000000</td>\n",
       "      <td>0.000000</td>\n",
       "    </tr>\n",
       "    <tr>\n",
       "      <th>1</th>\n",
       "      <td>1</td>\n",
       "      <td>0</td>\n",
       "      <td>95000.0</td>\n",
       "      <td>172578.04</td>\n",
       "      <td>-77578.04</td>\n",
       "      <td>7.0</td>\n",
       "      <td>20.0</td>\n",
       "      <td>20.0</td>\n",
       "      <td>16.0</td>\n",
       "      <td>16.0</td>\n",
       "      <td>...</td>\n",
       "      <td>675.00</td>\n",
       "      <td>140.667885</td>\n",
       "      <td>1394.230769</td>\n",
       "      <td>792.703558</td>\n",
       "      <td>30.577019</td>\n",
       "      <td>4.738462</td>\n",
       "      <td>4.738462</td>\n",
       "      <td>23.471154</td>\n",
       "      <td>6.490385</td>\n",
       "      <td>6.490385</td>\n",
       "    </tr>\n",
       "    <tr>\n",
       "      <th>2</th>\n",
       "      <td>5</td>\n",
       "      <td>1</td>\n",
       "      <td>143990.0</td>\n",
       "      <td>402379.13</td>\n",
       "      <td>-258389.13</td>\n",
       "      <td>15.0</td>\n",
       "      <td>19.0</td>\n",
       "      <td>19.0</td>\n",
       "      <td>15.0</td>\n",
       "      <td>25.0</td>\n",
       "      <td>...</td>\n",
       "      <td>8.20</td>\n",
       "      <td>316.376056</td>\n",
       "      <td>1464.788732</td>\n",
       "      <td>1.739437</td>\n",
       "      <td>23.302817</td>\n",
       "      <td>50.680986</td>\n",
       "      <td>50.680986</td>\n",
       "      <td>12.704225</td>\n",
       "      <td>0.057746</td>\n",
       "      <td>0.057746</td>\n",
       "    </tr>\n",
       "    <tr>\n",
       "      <th>3</th>\n",
       "      <td>9</td>\n",
       "      <td>0</td>\n",
       "      <td>301950.0</td>\n",
       "      <td>547365.09</td>\n",
       "      <td>-245415.09</td>\n",
       "      <td>5.0</td>\n",
       "      <td>8.0</td>\n",
       "      <td>7.0</td>\n",
       "      <td>5.0</td>\n",
       "      <td>6.0</td>\n",
       "      <td>...</td>\n",
       "      <td>11906.09</td>\n",
       "      <td>1.000000</td>\n",
       "      <td>13846.153846</td>\n",
       "      <td>0.000000</td>\n",
       "      <td>0.000000</td>\n",
       "      <td>0.000000</td>\n",
       "      <td>0.000000</td>\n",
       "      <td>0.000000</td>\n",
       "      <td>305.284359</td>\n",
       "      <td>305.284359</td>\n",
       "    </tr>\n",
       "    <tr>\n",
       "      <th>4</th>\n",
       "      <td>10</td>\n",
       "      <td>0</td>\n",
       "      <td>436300.0</td>\n",
       "      <td>688043.99</td>\n",
       "      <td>-251743.99</td>\n",
       "      <td>74.0</td>\n",
       "      <td>35.0</td>\n",
       "      <td>62.0</td>\n",
       "      <td>68.0</td>\n",
       "      <td>65.0</td>\n",
       "      <td>...</td>\n",
       "      <td>12123.23</td>\n",
       "      <td>116.458661</td>\n",
       "      <td>1844.492441</td>\n",
       "      <td>4.341253</td>\n",
       "      <td>0.688985</td>\n",
       "      <td>28.563758</td>\n",
       "      <td>28.563758</td>\n",
       "      <td>28.019330</td>\n",
       "      <td>26.184082</td>\n",
       "      <td>26.184082</td>\n",
       "    </tr>\n",
       "  </tbody>\n",
       "</table>\n",
       "<p>5 rows × 54 columns</p>\n",
       "</div>"
      ],
      "text/plain": [
       "   cl_id  target_flag  sum_income  sum_outcome  in_out_diff  day_0  day_1  \\\n",
       "0      0            0     20000.0     44383.00    -24383.00    0.0    0.0   \n",
       "1      1            0     95000.0    172578.04    -77578.04    7.0   20.0   \n",
       "2      5            1    143990.0    402379.13   -258389.13   15.0   19.0   \n",
       "3      9            0    301950.0    547365.09   -245415.09    5.0    8.0   \n",
       "4     10            0    436300.0    688043.99   -251743.99   74.0   35.0   \n",
       "\n",
       "   day_2  day_3  day_4     ...        MCC6012  MCC5411_avg   MCC6011_avg  \\\n",
       "0    2.0    0.0    1.0     ...           0.00   406.200000   4000.000000   \n",
       "1   20.0   16.0   16.0     ...         675.00   140.667885   1394.230769   \n",
       "2   19.0   15.0   25.0     ...           8.20   316.376056   1464.788732   \n",
       "3    7.0    5.0    6.0     ...       11906.09     1.000000  13846.153846   \n",
       "4   62.0   68.0   65.0     ...       12123.23   116.458661   1844.492441   \n",
       "\n",
       "   MCC5814_avg  MCC5812_avg  MCC5499_avg  MCC5541_avg  MCC5912_avg  \\\n",
       "0     0.000000     0.000000     0.000000     0.000000     0.000000   \n",
       "1   792.703558    30.577019     4.738462     4.738462    23.471154   \n",
       "2     1.739437    23.302817    50.680986    50.680986    12.704225   \n",
       "3     0.000000     0.000000     0.000000     0.000000     0.000000   \n",
       "4     4.341253     0.688985    28.563758    28.563758    28.019330   \n",
       "\n",
       "   MCC5999_avg  MCC6012_avg  \n",
       "0     0.000000     0.000000  \n",
       "1     6.490385     6.490385  \n",
       "2     0.057746     0.057746  \n",
       "3   305.284359   305.284359  \n",
       "4    26.184082    26.184082  \n",
       "\n",
       "[5 rows x 54 columns]"
      ]
     },
     "execution_count": 225,
     "metadata": {},
     "output_type": "execute_result"
    }
   ],
   "source": [
    "df_trans_count_f = df_trans_count.set_index('cl_id').join(df_trans_day_count.set_index('cl_id')).join(df_trans_hour_count.set_index('cl_id')).join(df_trans_mcc.set_index('cl_id'))\n",
    "df_trans_count_f = df_trans_count_f.reset_index(col_level=1)\n",
    "df_trans_count_f = df_trans_count_f.drop([\"channel_type\"], axis = 1)\n",
    "df_trans_count_f.head(5)\n"
   ]
  },
  {
   "cell_type": "code",
   "execution_count": 217,
   "metadata": {},
   "outputs": [
    {
     "data": {
      "text/plain": [
       "array([0, 'type5', 'type4', 'type2', 'type3', 'type1'], dtype=object)"
      ]
     },
     "execution_count": 217,
     "metadata": {},
     "output_type": "execute_result"
    }
   ],
   "source": [
    "df_trans_count_f.channel_type.unique()"
   ]
  },
  {
   "cell_type": "markdown",
   "metadata": {},
   "source": [
    "### Backward selection"
   ]
  },
  {
   "cell_type": "code",
   "execution_count": 226,
   "metadata": {},
   "outputs": [],
   "source": [
    "from sklearn.model_selection import train_test_split\n",
    "train_set, test_set = train_test_split(df_trans_count_f, test_size=0.2, random_state=42)"
   ]
  },
  {
   "cell_type": "code",
   "execution_count": 227,
   "metadata": {},
   "outputs": [],
   "source": [
    "from sklearn.base import BaseEstimator, TransformerMixin\n",
    "\n",
    "class DataFrameSelector(BaseEstimator, TransformerMixin):\n",
    "    def __init__(self, attribute_names):\n",
    "        self.attribute_names = attribute_names\n",
    "    def fit(self, X, y=None):\n",
    "        return self\n",
    "    def transform(self, X):\n",
    "        return X[self.attribute_names].values"
   ]
  },
  {
   "cell_type": "code",
   "execution_count": 228,
   "metadata": {},
   "outputs": [],
   "source": [
    "from sklearn.pipeline import FeatureUnion\n",
    "from sklearn.pipeline import Pipeline\n",
    "from sklearn.preprocessing import StandardScaler, Imputer, LabelBinarizer\n",
    "\n",
    "num_attribs = train_set.columns.drop([\"target_flag\"])\n",
    "\n",
    "num_pipeline = Pipeline([\n",
    "    ('selector', DataFrameSelector(num_attribs)),\n",
    "    ('imputer', Imputer(strategy=\"median\")),\n",
    "    ('std_scaler', StandardScaler()),\n",
    "])\n",
    "\n",
    "full_pipeline = FeatureUnion(transformer_list=[\n",
    "    (\"num_pipeline\", num_pipeline),\n",
    "])"
   ]
  },
  {
   "cell_type": "code",
   "execution_count": 229,
   "metadata": {},
   "outputs": [],
   "source": [
    "X_train = train_set.drop(\"target_flag\", axis=1)\n",
    "y_train = train_set[\"target_flag\"].copy()\n",
    "\n",
    "X_test = test_set.drop(\"target_flag\", axis=1)\n",
    "y_test = test_set[\"target_flag\"].copy()"
   ]
  },
  {
   "cell_type": "code",
   "execution_count": 230,
   "metadata": {},
   "outputs": [],
   "source": [
    "X_train_prepared = full_pipeline.fit_transform(X_train)\n",
    "X_test_prepared = full_pipeline.transform(X_test)"
   ]
  },
  {
   "cell_type": "code",
   "execution_count": 231,
   "metadata": {},
   "outputs": [
    {
     "data": {
      "text/plain": [
       "0.439242675502519"
      ]
     },
     "execution_count": 231,
     "metadata": {},
     "output_type": "execute_result"
    }
   ],
   "source": [
    "from sklearn.metrics import mean_squared_error\n",
    "from sklearn.linear_model import LinearRegression\n",
    "\n",
    "lin_reg = LinearRegression().fit(X_train_prepared, y_train)\n",
    "y_pred = lin_reg.predict(X_test_prepared)\n",
    "mse = mean_squared_error(y_test, y_pred)\n",
    "rmse = np.sqrt(mse)\n",
    "rmse"
   ]
  },
  {
   "cell_type": "markdown",
   "metadata": {},
   "source": [
    "### Features"
   ]
  },
  {
   "cell_type": "code",
   "execution_count": 281,
   "metadata": {},
   "outputs": [],
   "source": [
    "import statsmodels.api as sm\n",
    "import statsmodels.formula.api as smf"
   ]
  },
  {
   "cell_type": "markdown",
   "metadata": {},
   "source": [
    "#### Iteration - 0"
   ]
  },
  {
   "cell_type": "code",
   "execution_count": 282,
   "metadata": {},
   "outputs": [],
   "source": [
    "_iteration_cols = train_set.columns.drop('target_flag')"
   ]
  },
  {
   "cell_type": "code",
   "execution_count": 283,
   "metadata": {},
   "outputs": [],
   "source": [
    "def get_formula(_cols):\n",
    "    return 'target_flag ~ ' + \" + \".join(_cols)"
   ]
  },
  {
   "cell_type": "code",
   "execution_count": 284,
   "metadata": {},
   "outputs": [
    {
     "name": "stdout",
     "output_type": "stream",
     "text": [
      "RMSE: 0.4422540021648706\n",
      "R^2: 0.21125677011454624\n"
     ]
    }
   ],
   "source": [
    "lm = smf.ols(get_formula(_iteration_cols), train_set).fit()\n",
    "rss = np.sum(lm.resid ** 2)\n",
    "rmse = np.sqrt(rss / len(lm.resid))\n",
    "print(\"RMSE:\", rmse)\n",
    "print(\"R^2:\", lm.rsquared)"
   ]
  },
  {
   "cell_type": "code",
   "execution_count": 285,
   "metadata": {},
   "outputs": [
    {
     "data": {
      "text/plain": [
       "'target_flag ~ cl_id + sum_income + sum_outcome + in_out_diff + day_0 + day_1 + day_2 + day_3 + day_4 + day_5 + day_6 + hour_00 + hour_01 + hour_02 + hour_03 + hour_04 + hour_05 + hour_06 + hour_07 + hour_08 + hour_09 + hour_10 + hour_11 + hour_12 + hour_13 + hour_14 + hour_15 + hour_16 + hour_17 + hour_18 + hour_19 + hour_20 + hour_21 + hour_22 + hour_23 + MCC5411 + MCC6011 + MCC5814 + MCC5812 + MCC5499 + MCC5541 + MCC5912 + MCC5999 + MCC6012 + MCC5411_avg + MCC6011_avg + MCC5814_avg + MCC5812_avg + MCC5499_avg + MCC5541_avg + MCC5912_avg + MCC5999_avg + MCC6012_avg'"
      ]
     },
     "execution_count": 285,
     "metadata": {},
     "output_type": "execute_result"
    }
   ],
   "source": [
    "get_formula(_iteration_cols)"
   ]
  },
  {
   "cell_type": "code",
   "execution_count": 286,
   "metadata": {},
   "outputs": [
    {
     "data": {
      "text/html": [
       "<table class=\"simpletable\">\n",
       "<tr>\n",
       "       <td></td>          <th>coef</th>     <th>std err</th>      <th>t</th>      <th>P>|t|</th>  <th>[0.025</th>    <th>0.975]</th>  \n",
       "</tr>\n",
       "<tr>\n",
       "  <th>Intercept</th>   <td>    0.7141</td> <td>    0.019</td> <td>   37.268</td> <td> 0.000</td> <td>    0.677</td> <td>    0.752</td>\n",
       "</tr>\n",
       "<tr>\n",
       "  <th>cl_id</th>       <td>-5.533e-05</td> <td> 2.46e-06</td> <td>  -22.485</td> <td> 0.000</td> <td>-6.02e-05</td> <td>-5.05e-05</td>\n",
       "</tr>\n",
       "<tr>\n",
       "  <th>sum_income</th>  <td>-4.005e-08</td> <td> 4.02e-08</td> <td>   -0.996</td> <td> 0.320</td> <td>-1.19e-07</td> <td> 3.88e-08</td>\n",
       "</tr>\n",
       "<tr>\n",
       "  <th>sum_outcome</th> <td> 7.647e-08</td> <td> 2.38e-08</td> <td>    3.214</td> <td> 0.001</td> <td> 2.98e-08</td> <td> 1.23e-07</td>\n",
       "</tr>\n",
       "<tr>\n",
       "  <th>in_out_diff</th> <td> 7.026e-08</td> <td> 2.16e-08</td> <td>    3.249</td> <td> 0.001</td> <td> 2.79e-08</td> <td> 1.13e-07</td>\n",
       "</tr>\n",
       "<tr>\n",
       "  <th>day_0</th>       <td>    0.0030</td> <td>    0.001</td> <td>    2.103</td> <td> 0.035</td> <td>    0.000</td> <td>    0.006</td>\n",
       "</tr>\n",
       "<tr>\n",
       "  <th>day_1</th>       <td>    0.0016</td> <td>    0.002</td> <td>    1.042</td> <td> 0.298</td> <td>   -0.001</td> <td>    0.005</td>\n",
       "</tr>\n",
       "<tr>\n",
       "  <th>day_2</th>       <td>    0.0036</td> <td>    0.002</td> <td>    2.242</td> <td> 0.025</td> <td>    0.000</td> <td>    0.007</td>\n",
       "</tr>\n",
       "<tr>\n",
       "  <th>day_3</th>       <td>    0.0043</td> <td>    0.002</td> <td>    2.792</td> <td> 0.005</td> <td>    0.001</td> <td>    0.007</td>\n",
       "</tr>\n",
       "<tr>\n",
       "  <th>day_4</th>       <td>    0.0031</td> <td>    0.002</td> <td>    1.985</td> <td> 0.047</td> <td> 3.83e-05</td> <td>    0.006</td>\n",
       "</tr>\n",
       "<tr>\n",
       "  <th>day_5</th>       <td>    0.0031</td> <td>    0.001</td> <td>    2.136</td> <td> 0.033</td> <td>    0.000</td> <td>    0.006</td>\n",
       "</tr>\n",
       "<tr>\n",
       "  <th>day_6</th>       <td>    0.0035</td> <td>    0.001</td> <td>    2.613</td> <td> 0.009</td> <td>    0.001</td> <td>    0.006</td>\n",
       "</tr>\n",
       "<tr>\n",
       "  <th>hour_00</th>     <td>   -0.0023</td> <td>    0.001</td> <td>   -2.484</td> <td> 0.013</td> <td>   -0.004</td> <td>   -0.000</td>\n",
       "</tr>\n",
       "<tr>\n",
       "  <th>hour_01</th>     <td>    0.0416</td> <td>    0.019</td> <td>    2.137</td> <td> 0.033</td> <td>    0.003</td> <td>    0.080</td>\n",
       "</tr>\n",
       "<tr>\n",
       "  <th>hour_02</th>     <td>   -0.0061</td> <td>    0.013</td> <td>   -0.456</td> <td> 0.649</td> <td>   -0.032</td> <td>    0.020</td>\n",
       "</tr>\n",
       "<tr>\n",
       "  <th>hour_03</th>     <td>    0.0218</td> <td>    0.014</td> <td>    1.515</td> <td> 0.130</td> <td>   -0.006</td> <td>    0.050</td>\n",
       "</tr>\n",
       "<tr>\n",
       "  <th>hour_04</th>     <td>    0.0033</td> <td>    0.012</td> <td>    0.276</td> <td> 0.782</td> <td>   -0.020</td> <td>    0.027</td>\n",
       "</tr>\n",
       "<tr>\n",
       "  <th>hour_05</th>     <td>    0.0056</td> <td>    0.010</td> <td>    0.559</td> <td> 0.576</td> <td>   -0.014</td> <td>    0.025</td>\n",
       "</tr>\n",
       "<tr>\n",
       "  <th>hour_06</th>     <td>   -0.0186</td> <td>    0.008</td> <td>   -2.377</td> <td> 0.017</td> <td>   -0.034</td> <td>   -0.003</td>\n",
       "</tr>\n",
       "<tr>\n",
       "  <th>hour_07</th>     <td>    0.0024</td> <td>    0.006</td> <td>    0.383</td> <td> 0.702</td> <td>   -0.010</td> <td>    0.015</td>\n",
       "</tr>\n",
       "<tr>\n",
       "  <th>hour_08</th>     <td>   -0.0034</td> <td>    0.006</td> <td>   -0.585</td> <td> 0.559</td> <td>   -0.015</td> <td>    0.008</td>\n",
       "</tr>\n",
       "<tr>\n",
       "  <th>hour_09</th>     <td>   -0.0033</td> <td>    0.005</td> <td>   -0.622</td> <td> 0.534</td> <td>   -0.014</td> <td>    0.007</td>\n",
       "</tr>\n",
       "<tr>\n",
       "  <th>hour_10</th>     <td>   -0.0111</td> <td>    0.005</td> <td>   -2.286</td> <td> 0.022</td> <td>   -0.021</td> <td>   -0.002</td>\n",
       "</tr>\n",
       "<tr>\n",
       "  <th>hour_11</th>     <td>   -0.0041</td> <td>    0.005</td> <td>   -0.863</td> <td> 0.388</td> <td>   -0.014</td> <td>    0.005</td>\n",
       "</tr>\n",
       "<tr>\n",
       "  <th>hour_12</th>     <td>   -0.0060</td> <td>    0.005</td> <td>   -1.315</td> <td> 0.189</td> <td>   -0.015</td> <td>    0.003</td>\n",
       "</tr>\n",
       "<tr>\n",
       "  <th>hour_13</th>     <td>    0.0044</td> <td>    0.005</td> <td>    0.926</td> <td> 0.354</td> <td>   -0.005</td> <td>    0.014</td>\n",
       "</tr>\n",
       "<tr>\n",
       "  <th>hour_14</th>     <td>    0.0028</td> <td>    0.005</td> <td>    0.552</td> <td> 0.581</td> <td>   -0.007</td> <td>    0.013</td>\n",
       "</tr>\n",
       "<tr>\n",
       "  <th>hour_15</th>     <td>   -0.0017</td> <td>    0.005</td> <td>   -0.333</td> <td> 0.739</td> <td>   -0.012</td> <td>    0.008</td>\n",
       "</tr>\n",
       "<tr>\n",
       "  <th>hour_16</th>     <td>   -0.0081</td> <td>    0.005</td> <td>   -1.539</td> <td> 0.124</td> <td>   -0.018</td> <td>    0.002</td>\n",
       "</tr>\n",
       "<tr>\n",
       "  <th>hour_17</th>     <td>    0.0044</td> <td>    0.005</td> <td>    0.863</td> <td> 0.388</td> <td>   -0.006</td> <td>    0.014</td>\n",
       "</tr>\n",
       "<tr>\n",
       "  <th>hour_18</th>     <td>   -0.0035</td> <td>    0.005</td> <td>   -0.693</td> <td> 0.488</td> <td>   -0.013</td> <td>    0.006</td>\n",
       "</tr>\n",
       "<tr>\n",
       "  <th>hour_19</th>     <td>   -0.0042</td> <td>    0.006</td> <td>   -0.689</td> <td> 0.491</td> <td>   -0.016</td> <td>    0.008</td>\n",
       "</tr>\n",
       "<tr>\n",
       "  <th>hour_20</th>     <td>   -0.0133</td> <td>    0.008</td> <td>   -1.713</td> <td> 0.087</td> <td>   -0.029</td> <td>    0.002</td>\n",
       "</tr>\n",
       "<tr>\n",
       "  <th>hour_21</th>     <td>   -0.0083</td> <td>    0.009</td> <td>   -0.930</td> <td> 0.352</td> <td>   -0.026</td> <td>    0.009</td>\n",
       "</tr>\n",
       "<tr>\n",
       "  <th>hour_22</th>     <td>    0.0005</td> <td>    0.011</td> <td>    0.047</td> <td> 0.963</td> <td>   -0.021</td> <td>    0.022</td>\n",
       "</tr>\n",
       "<tr>\n",
       "  <th>hour_23</th>     <td>    0.0292</td> <td>    0.016</td> <td>    1.792</td> <td> 0.073</td> <td>   -0.003</td> <td>    0.061</td>\n",
       "</tr>\n",
       "<tr>\n",
       "  <th>MCC5411</th>     <td> 1.948e-07</td> <td> 1.78e-07</td> <td>    1.097</td> <td> 0.273</td> <td>-1.53e-07</td> <td> 5.43e-07</td>\n",
       "</tr>\n",
       "<tr>\n",
       "  <th>MCC6011</th>     <td> 4.143e-08</td> <td> 2.41e-08</td> <td>    1.717</td> <td> 0.086</td> <td>-5.88e-09</td> <td> 8.87e-08</td>\n",
       "</tr>\n",
       "<tr>\n",
       "  <th>MCC5814</th>     <td> 1.868e-06</td> <td>  1.5e-06</td> <td>    1.244</td> <td> 0.214</td> <td>-1.08e-06</td> <td> 4.81e-06</td>\n",
       "</tr>\n",
       "<tr>\n",
       "  <th>MCC5812</th>     <td> -2.74e-07</td> <td> 3.45e-07</td> <td>   -0.794</td> <td> 0.427</td> <td> -9.5e-07</td> <td> 4.02e-07</td>\n",
       "</tr>\n",
       "<tr>\n",
       "  <th>MCC5499</th>     <td> 1.824e-07</td> <td> 2.37e-07</td> <td>    0.770</td> <td> 0.441</td> <td>-2.82e-07</td> <td> 6.46e-07</td>\n",
       "</tr>\n",
       "<tr>\n",
       "  <th>MCC5541</th>     <td> 1.824e-07</td> <td> 2.37e-07</td> <td>    0.770</td> <td> 0.441</td> <td>-2.82e-07</td> <td> 6.46e-07</td>\n",
       "</tr>\n",
       "<tr>\n",
       "  <th>MCC5912</th>     <td> 3.555e-06</td> <td> 1.23e-06</td> <td>    2.886</td> <td> 0.004</td> <td> 1.14e-06</td> <td> 5.97e-06</td>\n",
       "</tr>\n",
       "<tr>\n",
       "  <th>MCC5999</th>     <td> 1.013e-06</td> <td> 3.06e-07</td> <td>    3.310</td> <td> 0.001</td> <td> 4.13e-07</td> <td> 1.61e-06</td>\n",
       "</tr>\n",
       "<tr>\n",
       "  <th>MCC6012</th>     <td> 1.013e-06</td> <td> 3.06e-07</td> <td>    3.310</td> <td> 0.001</td> <td> 4.13e-07</td> <td> 1.61e-06</td>\n",
       "</tr>\n",
       "<tr>\n",
       "  <th>MCC5411_avg</th> <td>-1.079e-06</td> <td> 1.01e-05</td> <td>   -0.106</td> <td> 0.915</td> <td>-2.09e-05</td> <td> 1.88e-05</td>\n",
       "</tr>\n",
       "<tr>\n",
       "  <th>MCC6011_avg</th> <td>-4.077e-06</td> <td> 5.71e-07</td> <td>   -7.140</td> <td> 0.000</td> <td> -5.2e-06</td> <td>-2.96e-06</td>\n",
       "</tr>\n",
       "<tr>\n",
       "  <th>MCC5814_avg</th> <td>-6.645e-06</td> <td>    0.000</td> <td>   -0.053</td> <td> 0.958</td> <td>   -0.000</td> <td>    0.000</td>\n",
       "</tr>\n",
       "<tr>\n",
       "  <th>MCC5812_avg</th> <td> 1.283e-05</td> <td> 1.99e-05</td> <td>    0.645</td> <td> 0.519</td> <td>-2.62e-05</td> <td> 5.18e-05</td>\n",
       "</tr>\n",
       "<tr>\n",
       "  <th>MCC5499_avg</th> <td>-2.201e-06</td> <td> 4.92e-06</td> <td>   -0.448</td> <td> 0.654</td> <td>-1.18e-05</td> <td> 7.44e-06</td>\n",
       "</tr>\n",
       "<tr>\n",
       "  <th>MCC5541_avg</th> <td>-2.201e-06</td> <td> 4.92e-06</td> <td>   -0.448</td> <td> 0.654</td> <td>-1.18e-05</td> <td> 7.44e-06</td>\n",
       "</tr>\n",
       "<tr>\n",
       "  <th>MCC5912_avg</th> <td>-4.908e-05</td> <td> 5.15e-05</td> <td>   -0.952</td> <td> 0.341</td> <td>   -0.000</td> <td>  5.2e-05</td>\n",
       "</tr>\n",
       "<tr>\n",
       "  <th>MCC5999_avg</th> <td>-1.468e-05</td> <td> 4.97e-06</td> <td>   -2.955</td> <td> 0.003</td> <td>-2.44e-05</td> <td>-4.94e-06</td>\n",
       "</tr>\n",
       "<tr>\n",
       "  <th>MCC6012_avg</th> <td>-1.468e-05</td> <td> 4.97e-06</td> <td>   -2.955</td> <td> 0.003</td> <td>-2.44e-05</td> <td>-4.94e-06</td>\n",
       "</tr>\n",
       "</table>"
      ],
      "text/plain": [
       "<class 'statsmodels.iolib.table.SimpleTable'>"
      ]
     },
     "execution_count": 286,
     "metadata": {},
     "output_type": "execute_result"
    }
   ],
   "source": [
    "lm_res = lm.summary()\n",
    "lm_res.tables[1]"
   ]
  },
  {
   "cell_type": "markdown",
   "metadata": {},
   "source": [
    "### Iteration - 1"
   ]
  },
  {
   "cell_type": "code",
   "execution_count": 287,
   "metadata": {},
   "outputs": [],
   "source": [
    "_iteration_cols = _iteration_cols.drop('hour_00')\n",
    "_iteration_cols = _iteration_cols.drop('hour_01')\n",
    "_iteration_cols = _iteration_cols.drop('hour_02')\n",
    "_iteration_cols = _iteration_cols.drop('hour_03')\n",
    "_iteration_cols = _iteration_cols.drop('hour_04')\n",
    "_iteration_cols = _iteration_cols.drop('hour_05')\n",
    "_iteration_cols = _iteration_cols.drop('hour_06')\n",
    "_iteration_cols = _iteration_cols.drop('hour_07')\n",
    "_iteration_cols = _iteration_cols.drop('hour_08')\n",
    "_iteration_cols = _iteration_cols.drop('hour_09')\n",
    "_iteration_cols = _iteration_cols.drop('hour_10')\n",
    "_iteration_cols = _iteration_cols.drop('hour_11')\n",
    "_iteration_cols = _iteration_cols.drop('hour_12')\n",
    "_iteration_cols = _iteration_cols.drop('hour_13')\n",
    "_iteration_cols = _iteration_cols.drop('hour_14')\n",
    "_iteration_cols = _iteration_cols.drop('hour_15')\n",
    "_iteration_cols = _iteration_cols.drop('hour_16')\n",
    "_iteration_cols = _iteration_cols.drop('hour_17')\n",
    "_iteration_cols = _iteration_cols.drop('hour_18')\n",
    "_iteration_cols = _iteration_cols.drop('hour_19')\n",
    "_iteration_cols = _iteration_cols.drop('hour_20')\n",
    "_iteration_cols = _iteration_cols.drop('hour_21')\n",
    "_iteration_cols = _iteration_cols.drop('hour_22')\n",
    "_iteration_cols = _iteration_cols.drop('hour_23')"
   ]
  },
  {
   "cell_type": "code",
   "execution_count": 288,
   "metadata": {},
   "outputs": [
    {
     "name": "stdout",
     "output_type": "stream",
     "text": [
      "RMSE: 0.44416263662615\n",
      "R^2: 0.20443412531628813\n"
     ]
    }
   ],
   "source": [
    "lm = smf.ols(get_formula(_iteration_cols), train_set).fit()\n",
    "rss = np.sum(lm.resid ** 2)\n",
    "rmse = np.sqrt(rss / len(lm.resid))\n",
    "print(\"RMSE:\", rmse)\n",
    "print(\"R^2:\", lm.rsquared)"
   ]
  },
  {
   "cell_type": "code",
   "execution_count": 289,
   "metadata": {},
   "outputs": [
    {
     "data": {
      "text/html": [
       "<table class=\"simpletable\">\n",
       "<tr>\n",
       "       <td></td>          <th>coef</th>     <th>std err</th>      <th>t</th>      <th>P>|t|</th>  <th>[0.025</th>    <th>0.975]</th>  \n",
       "</tr>\n",
       "<tr>\n",
       "  <th>Intercept</th>   <td>    0.7162</td> <td>    0.019</td> <td>   37.651</td> <td> 0.000</td> <td>    0.679</td> <td>    0.754</td>\n",
       "</tr>\n",
       "<tr>\n",
       "  <th>cl_id</th>       <td>-5.562e-05</td> <td> 2.45e-06</td> <td>  -22.678</td> <td> 0.000</td> <td>-6.04e-05</td> <td>-5.08e-05</td>\n",
       "</tr>\n",
       "<tr>\n",
       "  <th>sum_income</th>  <td>-3.362e-08</td> <td>  3.8e-08</td> <td>   -0.884</td> <td> 0.377</td> <td>-1.08e-07</td> <td> 4.09e-08</td>\n",
       "</tr>\n",
       "<tr>\n",
       "  <th>sum_outcome</th> <td> 7.462e-08</td> <td> 2.35e-08</td> <td>    3.173</td> <td> 0.002</td> <td> 2.85e-08</td> <td> 1.21e-07</td>\n",
       "</tr>\n",
       "<tr>\n",
       "  <th>in_out_diff</th> <td> 6.672e-08</td> <td> 2.13e-08</td> <td>    3.127</td> <td> 0.002</td> <td> 2.49e-08</td> <td> 1.09e-07</td>\n",
       "</tr>\n",
       "<tr>\n",
       "  <th>day_0</th>       <td>    0.0008</td> <td>    0.001</td> <td>    0.766</td> <td> 0.444</td> <td>   -0.001</td> <td>    0.003</td>\n",
       "</tr>\n",
       "<tr>\n",
       "  <th>day_1</th>       <td>   -0.0007</td> <td>    0.001</td> <td>   -0.521</td> <td> 0.602</td> <td>   -0.003</td> <td>    0.002</td>\n",
       "</tr>\n",
       "<tr>\n",
       "  <th>day_2</th>       <td>    0.0011</td> <td>    0.001</td> <td>    0.855</td> <td> 0.393</td> <td>   -0.001</td> <td>    0.004</td>\n",
       "</tr>\n",
       "<tr>\n",
       "  <th>day_3</th>       <td>    0.0021</td> <td>    0.001</td> <td>    1.670</td> <td> 0.095</td> <td>   -0.000</td> <td>    0.005</td>\n",
       "</tr>\n",
       "<tr>\n",
       "  <th>day_4</th>       <td>    0.0005</td> <td>    0.001</td> <td>    0.397</td> <td> 0.692</td> <td>   -0.002</td> <td>    0.003</td>\n",
       "</tr>\n",
       "<tr>\n",
       "  <th>day_5</th>       <td>    0.0009</td> <td>    0.001</td> <td>    0.802</td> <td> 0.422</td> <td>   -0.001</td> <td>    0.003</td>\n",
       "</tr>\n",
       "<tr>\n",
       "  <th>day_6</th>       <td>    0.0012</td> <td>    0.001</td> <td>    1.171</td> <td> 0.242</td> <td>   -0.001</td> <td>    0.003</td>\n",
       "</tr>\n",
       "<tr>\n",
       "  <th>MCC5411</th>     <td> 1.574e-07</td> <td> 1.77e-07</td> <td>    0.888</td> <td> 0.375</td> <td> -1.9e-07</td> <td> 5.05e-07</td>\n",
       "</tr>\n",
       "<tr>\n",
       "  <th>MCC6011</th>     <td> 3.279e-08</td> <td> 2.29e-08</td> <td>    1.432</td> <td> 0.152</td> <td>-1.21e-08</td> <td> 7.77e-08</td>\n",
       "</tr>\n",
       "<tr>\n",
       "  <th>MCC5814</th>     <td> 2.153e-06</td> <td> 1.48e-06</td> <td>    1.456</td> <td> 0.146</td> <td>-7.47e-07</td> <td> 5.05e-06</td>\n",
       "</tr>\n",
       "<tr>\n",
       "  <th>MCC5812</th>     <td>-2.248e-07</td> <td> 3.44e-07</td> <td>   -0.653</td> <td> 0.514</td> <td>-8.99e-07</td> <td>  4.5e-07</td>\n",
       "</tr>\n",
       "<tr>\n",
       "  <th>MCC5499</th>     <td> 2.369e-07</td> <td> 2.34e-07</td> <td>    1.013</td> <td> 0.311</td> <td>-2.21e-07</td> <td> 6.95e-07</td>\n",
       "</tr>\n",
       "<tr>\n",
       "  <th>MCC5541</th>     <td> 2.369e-07</td> <td> 2.34e-07</td> <td>    1.013</td> <td> 0.311</td> <td>-2.21e-07</td> <td> 6.95e-07</td>\n",
       "</tr>\n",
       "<tr>\n",
       "  <th>MCC5912</th>     <td> 3.791e-06</td> <td> 1.23e-06</td> <td>    3.095</td> <td> 0.002</td> <td> 1.39e-06</td> <td> 6.19e-06</td>\n",
       "</tr>\n",
       "<tr>\n",
       "  <th>MCC5999</th>     <td>  1.06e-06</td> <td> 3.05e-07</td> <td>    3.478</td> <td> 0.001</td> <td> 4.62e-07</td> <td> 1.66e-06</td>\n",
       "</tr>\n",
       "<tr>\n",
       "  <th>MCC6012</th>     <td>  1.06e-06</td> <td> 3.05e-07</td> <td>    3.478</td> <td> 0.001</td> <td> 4.62e-07</td> <td> 1.66e-06</td>\n",
       "</tr>\n",
       "<tr>\n",
       "  <th>MCC5411_avg</th> <td> -2.04e-07</td> <td> 1.01e-05</td> <td>   -0.020</td> <td> 0.984</td> <td>-2.01e-05</td> <td> 1.97e-05</td>\n",
       "</tr>\n",
       "<tr>\n",
       "  <th>MCC6011_avg</th> <td>-3.987e-06</td> <td> 5.64e-07</td> <td>   -7.069</td> <td> 0.000</td> <td>-5.09e-06</td> <td>-2.88e-06</td>\n",
       "</tr>\n",
       "<tr>\n",
       "  <th>MCC5814_avg</th> <td>-2.496e-05</td> <td>    0.000</td> <td>   -0.201</td> <td> 0.841</td> <td>   -0.000</td> <td>    0.000</td>\n",
       "</tr>\n",
       "<tr>\n",
       "  <th>MCC5812_avg</th> <td> 1.009e-05</td> <td> 1.98e-05</td> <td>    0.509</td> <td> 0.611</td> <td>-2.88e-05</td> <td>  4.9e-05</td>\n",
       "</tr>\n",
       "<tr>\n",
       "  <th>MCC5499_avg</th> <td>-3.164e-06</td> <td> 4.88e-06</td> <td>   -0.648</td> <td> 0.517</td> <td>-1.27e-05</td> <td>  6.4e-06</td>\n",
       "</tr>\n",
       "<tr>\n",
       "  <th>MCC5541_avg</th> <td>-3.164e-06</td> <td> 4.88e-06</td> <td>   -0.648</td> <td> 0.517</td> <td>-1.27e-05</td> <td>  6.4e-06</td>\n",
       "</tr>\n",
       "<tr>\n",
       "  <th>MCC5912_avg</th> <td>-5.145e-05</td> <td> 5.15e-05</td> <td>   -0.999</td> <td> 0.318</td> <td>   -0.000</td> <td> 4.95e-05</td>\n",
       "</tr>\n",
       "<tr>\n",
       "  <th>MCC5999_avg</th> <td>-1.513e-05</td> <td> 4.95e-06</td> <td>   -3.056</td> <td> 0.002</td> <td>-2.48e-05</td> <td>-5.43e-06</td>\n",
       "</tr>\n",
       "<tr>\n",
       "  <th>MCC6012_avg</th> <td>-1.513e-05</td> <td> 4.95e-06</td> <td>   -3.056</td> <td> 0.002</td> <td>-2.48e-05</td> <td>-5.43e-06</td>\n",
       "</tr>\n",
       "</table>"
      ],
      "text/plain": [
       "<class 'statsmodels.iolib.table.SimpleTable'>"
      ]
     },
     "execution_count": 289,
     "metadata": {},
     "output_type": "execute_result"
    }
   ],
   "source": [
    "lm_res = lm.summary()\n",
    "lm_res.tables[1]"
   ]
  },
  {
   "cell_type": "markdown",
   "metadata": {},
   "source": [
    "### Iteration - 2"
   ]
  },
  {
   "cell_type": "code",
   "execution_count": 290,
   "metadata": {},
   "outputs": [],
   "source": [
    "_iteration_cols = _iteration_cols.drop('MCC5814_avg')\n",
    "_iteration_cols = _iteration_cols.drop('MCC5411_avg')\n",
    "_iteration_cols = _iteration_cols.drop('MCC5499_avg')\n",
    "_iteration_cols = _iteration_cols.drop('MCC5541_avg')\n",
    "_iteration_cols = _iteration_cols.drop('MCC5812_avg')\n",
    "_iteration_cols = _iteration_cols.drop('MCC5499')\n",
    "_iteration_cols = _iteration_cols.drop('MCC5541')\n",
    "_iteration_cols = _iteration_cols.drop('MCC5812')\n",
    "_iteration_cols = _iteration_cols.drop('MCC5912_avg')\n",
    "_iteration_cols = _iteration_cols.drop('MCC5411')\n",
    "_iteration_cols = _iteration_cols.drop('MCC5814')\n",
    "_iteration_cols = _iteration_cols.drop('MCC6011')"
   ]
  },
  {
   "cell_type": "code",
   "execution_count": 291,
   "metadata": {},
   "outputs": [
    {
     "name": "stdout",
     "output_type": "stream",
     "text": [
      "RMSE: 0.44474013255608397\n",
      "R^2: 0.20236400642805452\n"
     ]
    }
   ],
   "source": [
    "lm = smf.ols(get_formula(_iteration_cols), train_set).fit()\n",
    "rss = np.sum(lm.resid ** 2)\n",
    "rmse = np.sqrt(rss / len(lm.resid))\n",
    "print(\"RMSE:\", rmse)\n",
    "print(\"R^2:\", lm.rsquared)"
   ]
  },
  {
   "cell_type": "code",
   "execution_count": 292,
   "metadata": {},
   "outputs": [
    {
     "data": {
      "text/html": [
       "<table class=\"simpletable\">\n",
       "<tr>\n",
       "       <td></td>          <th>coef</th>     <th>std err</th>      <th>t</th>      <th>P>|t|</th>  <th>[0.025</th>    <th>0.975]</th>  \n",
       "</tr>\n",
       "<tr>\n",
       "  <th>Intercept</th>   <td>    0.7175</td> <td>    0.018</td> <td>   39.579</td> <td> 0.000</td> <td>    0.682</td> <td>    0.753</td>\n",
       "</tr>\n",
       "<tr>\n",
       "  <th>cl_id</th>       <td>-5.634e-05</td> <td> 2.43e-06</td> <td>  -23.163</td> <td> 0.000</td> <td>-6.11e-05</td> <td>-5.16e-05</td>\n",
       "</tr>\n",
       "<tr>\n",
       "  <th>sum_income</th>  <td>-2.296e-08</td> <td> 3.65e-08</td> <td>   -0.630</td> <td> 0.529</td> <td>-9.44e-08</td> <td> 4.85e-08</td>\n",
       "</tr>\n",
       "<tr>\n",
       "  <th>sum_outcome</th> <td> 9.921e-08</td> <td> 1.81e-08</td> <td>    5.478</td> <td> 0.000</td> <td> 6.37e-08</td> <td> 1.35e-07</td>\n",
       "</tr>\n",
       "<tr>\n",
       "  <th>in_out_diff</th> <td> 8.475e-08</td> <td> 1.77e-08</td> <td>    4.783</td> <td> 0.000</td> <td>    5e-08</td> <td> 1.19e-07</td>\n",
       "</tr>\n",
       "<tr>\n",
       "  <th>day_0</th>       <td>    0.0009</td> <td>    0.001</td> <td>    0.813</td> <td> 0.416</td> <td>   -0.001</td> <td>    0.003</td>\n",
       "</tr>\n",
       "<tr>\n",
       "  <th>day_1</th>       <td>   -0.0005</td> <td>    0.001</td> <td>   -0.374</td> <td> 0.708</td> <td>   -0.003</td> <td>    0.002</td>\n",
       "</tr>\n",
       "<tr>\n",
       "  <th>day_2</th>       <td>    0.0013</td> <td>    0.001</td> <td>    0.957</td> <td> 0.339</td> <td>   -0.001</td> <td>    0.004</td>\n",
       "</tr>\n",
       "<tr>\n",
       "  <th>day_3</th>       <td>    0.0023</td> <td>    0.001</td> <td>    1.837</td> <td> 0.066</td> <td>   -0.000</td> <td>    0.005</td>\n",
       "</tr>\n",
       "<tr>\n",
       "  <th>day_4</th>       <td>    0.0007</td> <td>    0.001</td> <td>    0.579</td> <td> 0.563</td> <td>   -0.002</td> <td>    0.003</td>\n",
       "</tr>\n",
       "<tr>\n",
       "  <th>day_5</th>       <td>    0.0011</td> <td>    0.001</td> <td>    0.977</td> <td> 0.329</td> <td>   -0.001</td> <td>    0.003</td>\n",
       "</tr>\n",
       "<tr>\n",
       "  <th>day_6</th>       <td>    0.0013</td> <td>    0.001</td> <td>    1.294</td> <td> 0.196</td> <td>   -0.001</td> <td>    0.003</td>\n",
       "</tr>\n",
       "<tr>\n",
       "  <th>MCC5912</th>     <td> 2.861e-06</td> <td> 9.45e-07</td> <td>    3.029</td> <td> 0.002</td> <td> 1.01e-06</td> <td> 4.71e-06</td>\n",
       "</tr>\n",
       "<tr>\n",
       "  <th>MCC5999</th>     <td> 9.921e-07</td> <td> 2.92e-07</td> <td>    3.397</td> <td> 0.001</td> <td> 4.19e-07</td> <td> 1.56e-06</td>\n",
       "</tr>\n",
       "<tr>\n",
       "  <th>MCC6012</th>     <td> 9.921e-07</td> <td> 2.92e-07</td> <td>    3.397</td> <td> 0.001</td> <td> 4.19e-07</td> <td> 1.56e-06</td>\n",
       "</tr>\n",
       "<tr>\n",
       "  <th>MCC6011_avg</th> <td> -3.73e-06</td> <td> 4.96e-07</td> <td>   -7.527</td> <td> 0.000</td> <td> -4.7e-06</td> <td>-2.76e-06</td>\n",
       "</tr>\n",
       "<tr>\n",
       "  <th>MCC5999_avg</th> <td>-1.458e-05</td> <td> 4.85e-06</td> <td>   -3.008</td> <td> 0.003</td> <td>-2.41e-05</td> <td>-5.08e-06</td>\n",
       "</tr>\n",
       "<tr>\n",
       "  <th>MCC6012_avg</th> <td>-1.458e-05</td> <td> 4.85e-06</td> <td>   -3.008</td> <td> 0.003</td> <td>-2.41e-05</td> <td>-5.08e-06</td>\n",
       "</tr>\n",
       "</table>"
      ],
      "text/plain": [
       "<class 'statsmodels.iolib.table.SimpleTable'>"
      ]
     },
     "execution_count": 292,
     "metadata": {},
     "output_type": "execute_result"
    }
   ],
   "source": [
    "lm_res = lm.summary()\n",
    "lm_res.tables[1]"
   ]
  },
  {
   "cell_type": "markdown",
   "metadata": {},
   "source": [
    "### Iteration - 3"
   ]
  },
  {
   "cell_type": "code",
   "execution_count": 293,
   "metadata": {},
   "outputs": [],
   "source": [
    "_iteration_cols = _iteration_cols.drop('day_0')\n",
    "_iteration_cols = _iteration_cols.drop('day_1')\n",
    "_iteration_cols = _iteration_cols.drop('day_2')\n",
    "_iteration_cols = _iteration_cols.drop('day_3')\n",
    "_iteration_cols = _iteration_cols.drop('day_4')\n",
    "_iteration_cols = _iteration_cols.drop('day_5')\n",
    "_iteration_cols = _iteration_cols.drop('day_6')"
   ]
  },
  {
   "cell_type": "code",
   "execution_count": 294,
   "metadata": {},
   "outputs": [
    {
     "name": "stdout",
     "output_type": "stream",
     "text": [
      "RMSE: 0.45061684717609235\n",
      "R^2: 0.18114510350268453\n"
     ]
    }
   ],
   "source": [
    "lm = smf.ols(get_formula(_iteration_cols), train_set).fit()\n",
    "rss = np.sum(lm.resid ** 2)\n",
    "rmse = np.sqrt(rss / len(lm.resid))\n",
    "print(\"RMSE:\", rmse)\n",
    "print(\"R^2:\", lm.rsquared)"
   ]
  },
  {
   "cell_type": "code",
   "execution_count": 295,
   "metadata": {},
   "outputs": [
    {
     "data": {
      "text/html": [
       "<table class=\"simpletable\">\n",
       "<tr>\n",
       "       <td></td>          <th>coef</th>     <th>std err</th>      <th>t</th>      <th>P>|t|</th>  <th>[0.025</th>    <th>0.975]</th>  \n",
       "</tr>\n",
       "<tr>\n",
       "  <th>Intercept</th>   <td>    0.8207</td> <td>    0.015</td> <td>   54.107</td> <td> 0.000</td> <td>    0.791</td> <td>    0.850</td>\n",
       "</tr>\n",
       "<tr>\n",
       "  <th>cl_id</th>       <td>-5.905e-05</td> <td> 2.44e-06</td> <td>  -24.166</td> <td> 0.000</td> <td>-6.38e-05</td> <td>-5.43e-05</td>\n",
       "</tr>\n",
       "<tr>\n",
       "  <th>sum_income</th>  <td> 4.147e-08</td> <td> 3.62e-08</td> <td>    1.145</td> <td> 0.252</td> <td>-2.95e-08</td> <td> 1.12e-07</td>\n",
       "</tr>\n",
       "<tr>\n",
       "  <th>sum_outcome</th> <td> 1.231e-07</td> <td> 1.81e-08</td> <td>    6.788</td> <td> 0.000</td> <td> 8.76e-08</td> <td> 1.59e-07</td>\n",
       "</tr>\n",
       "<tr>\n",
       "  <th>in_out_diff</th> <td> 1.048e-07</td> <td> 1.78e-08</td> <td>    5.891</td> <td> 0.000</td> <td> 6.99e-08</td> <td>  1.4e-07</td>\n",
       "</tr>\n",
       "<tr>\n",
       "  <th>MCC5912</th>     <td> 4.827e-06</td> <td> 9.36e-07</td> <td>    5.158</td> <td> 0.000</td> <td> 2.99e-06</td> <td> 6.66e-06</td>\n",
       "</tr>\n",
       "<tr>\n",
       "  <th>MCC5999</th>     <td> 1.208e-06</td> <td> 2.95e-07</td> <td>    4.100</td> <td> 0.000</td> <td>  6.3e-07</td> <td> 1.79e-06</td>\n",
       "</tr>\n",
       "<tr>\n",
       "  <th>MCC6012</th>     <td> 1.208e-06</td> <td> 2.95e-07</td> <td>    4.100</td> <td> 0.000</td> <td>  6.3e-07</td> <td> 1.79e-06</td>\n",
       "</tr>\n",
       "<tr>\n",
       "  <th>MCC6011_avg</th> <td> -5.29e-06</td> <td> 4.77e-07</td> <td>  -11.079</td> <td> 0.000</td> <td>-6.23e-06</td> <td>-4.35e-06</td>\n",
       "</tr>\n",
       "<tr>\n",
       "  <th>MCC5999_avg</th> <td>-1.971e-05</td> <td> 4.88e-06</td> <td>   -4.042</td> <td> 0.000</td> <td>-2.93e-05</td> <td>-1.02e-05</td>\n",
       "</tr>\n",
       "<tr>\n",
       "  <th>MCC6012_avg</th> <td>-1.971e-05</td> <td> 4.88e-06</td> <td>   -4.042</td> <td> 0.000</td> <td>-2.93e-05</td> <td>-1.02e-05</td>\n",
       "</tr>\n",
       "</table>"
      ],
      "text/plain": [
       "<class 'statsmodels.iolib.table.SimpleTable'>"
      ]
     },
     "execution_count": 295,
     "metadata": {},
     "output_type": "execute_result"
    }
   ],
   "source": [
    "lm_res = lm.summary()\n",
    "lm_res.tables[1]"
   ]
  },
  {
   "cell_type": "markdown",
   "metadata": {},
   "source": [
    "### Iteration - 4"
   ]
  },
  {
   "cell_type": "code",
   "execution_count": 297,
   "metadata": {},
   "outputs": [],
   "source": [
    "_iteration_cols = _iteration_cols.drop('sum_income')"
   ]
  },
  {
   "cell_type": "code",
   "execution_count": 298,
   "metadata": {},
   "outputs": [
    {
     "name": "stdout",
     "output_type": "stream",
     "text": [
      "RMSE: 0.4506909059804054\n",
      "R^2: 0.18087592405105912\n"
     ]
    }
   ],
   "source": [
    "lm = smf.ols(get_formula(_iteration_cols), train_set).fit()\n",
    "rss = np.sum(lm.resid ** 2)\n",
    "rmse = np.sqrt(rss / len(lm.resid))\n",
    "print(\"RMSE:\", rmse)\n",
    "print(\"R^2:\", lm.rsquared)"
   ]
  },
  {
   "cell_type": "code",
   "execution_count": 299,
   "metadata": {},
   "outputs": [
    {
     "data": {
      "text/html": [
       "<table class=\"simpletable\">\n",
       "<tr>\n",
       "       <td></td>          <th>coef</th>     <th>std err</th>      <th>t</th>      <th>P>|t|</th>  <th>[0.025</th>    <th>0.975]</th>  \n",
       "</tr>\n",
       "<tr>\n",
       "  <th>Intercept</th>   <td>    0.8226</td> <td>    0.015</td> <td>   54.544</td> <td> 0.000</td> <td>    0.793</td> <td>    0.852</td>\n",
       "</tr>\n",
       "<tr>\n",
       "  <th>cl_id</th>       <td>-5.872e-05</td> <td> 2.43e-06</td> <td>  -24.197</td> <td> 0.000</td> <td>-6.35e-05</td> <td> -5.4e-05</td>\n",
       "</tr>\n",
       "<tr>\n",
       "  <th>sum_outcome</th> <td> 1.292e-07</td> <td> 1.73e-08</td> <td>    7.448</td> <td> 0.000</td> <td> 9.52e-08</td> <td> 1.63e-07</td>\n",
       "</tr>\n",
       "<tr>\n",
       "  <th>in_out_diff</th> <td> 1.105e-07</td> <td> 1.71e-08</td> <td>    6.480</td> <td> 0.000</td> <td> 7.71e-08</td> <td> 1.44e-07</td>\n",
       "</tr>\n",
       "<tr>\n",
       "  <th>MCC5912</th>     <td> 4.898e-06</td> <td> 9.34e-07</td> <td>    5.245</td> <td> 0.000</td> <td> 3.07e-06</td> <td> 6.73e-06</td>\n",
       "</tr>\n",
       "<tr>\n",
       "  <th>MCC5999</th>     <td> 1.235e-06</td> <td> 2.94e-07</td> <td>    4.207</td> <td> 0.000</td> <td>  6.6e-07</td> <td> 1.81e-06</td>\n",
       "</tr>\n",
       "<tr>\n",
       "  <th>MCC6012</th>     <td> 1.235e-06</td> <td> 2.94e-07</td> <td>    4.207</td> <td> 0.000</td> <td>  6.6e-07</td> <td> 1.81e-06</td>\n",
       "</tr>\n",
       "<tr>\n",
       "  <th>MCC6011_avg</th> <td>-5.347e-06</td> <td> 4.75e-07</td> <td>  -11.261</td> <td> 0.000</td> <td>-6.28e-06</td> <td>-4.42e-06</td>\n",
       "</tr>\n",
       "<tr>\n",
       "  <th>MCC5999_avg</th> <td>-2.016e-05</td> <td> 4.86e-06</td> <td>   -4.146</td> <td> 0.000</td> <td>-2.97e-05</td> <td>-1.06e-05</td>\n",
       "</tr>\n",
       "<tr>\n",
       "  <th>MCC6012_avg</th> <td>-2.016e-05</td> <td> 4.86e-06</td> <td>   -4.146</td> <td> 0.000</td> <td>-2.97e-05</td> <td>-1.06e-05</td>\n",
       "</tr>\n",
       "</table>"
      ],
      "text/plain": [
       "<class 'statsmodels.iolib.table.SimpleTable'>"
      ]
     },
     "execution_count": 299,
     "metadata": {},
     "output_type": "execute_result"
    }
   ],
   "source": [
    "lm_res = lm.summary()\n",
    "lm_res.tables[1]"
   ]
  },
  {
   "cell_type": "markdown",
   "metadata": {},
   "source": [
    "### Roc_auc"
   ]
  },
  {
   "cell_type": "code",
   "execution_count": 304,
   "metadata": {},
   "outputs": [
    {
     "name": "stdout",
     "output_type": "stream",
     "text": [
      "Train:  0.96\n",
      "Test:  0.83\n"
     ]
    }
   ],
   "source": [
    "xgb = xgboost.XGBClassifier(max_depth=5, n_jobs=-1)\n",
    "xgb.fit(X_train, y_train)\n",
    "y_train_predict = xgb.predict_proba(X_train)[:, 1]\n",
    "y_test_predict = xgb.predict_proba(X_test)[:, 1]\n",
    "roc_auc_train = np.round(roc_auc_score(y_train, y_train_predict), 2)\n",
    "roc_auc_test = np.round(roc_auc_score(y_test, y_test_predict), 2)\n",
    "print(\"Train: \", roc_auc_train)\n",
    "print(\"Test: \", roc_auc_test)"
   ]
  },
  {
   "cell_type": "markdown",
   "metadata": {},
   "source": [
    "### Plot"
   ]
  },
  {
   "cell_type": "code",
   "execution_count": 305,
   "metadata": {},
   "outputs": [
    {
     "data": {
      "image/png": "[encoded data removed]",
      "text/plain": [
       "<Figure size 720x720 with 1 Axes>"
      ]
     },
     "metadata": {},
     "output_type": "display_data"
    }
   ],
   "source": [
    "import matplotlib\n",
    "fpr_train, tpr_train, thresholds_train = roc_curve(y_train, y_train_predict)\n",
    "fpr_test, tpr_test, thresholds_test = roc_curve(y_test, y_test_predict)\n",
    "\n",
    "matplotlib.rcParams['figure.figsize'] = (10.0, 10.0)\n",
    "plt.plot(fpr_train, tpr_train, label='Train ROC AUC {0}'.format(roc_auc_train))\n",
    "plt.plot(fpr_test, tpr_test, label='Test ROC AUC {0}'.format(roc_auc_test))\n",
    "plt.plot([0, 1], [0, 1], '--', color=(0.6, 0.6, 0.6))\n",
    "plt.xlim([0, 1])\n",
    "plt.ylim([0, 1])\n",
    "plt.xlabel('False Positive Rate')\n",
    "plt.ylabel('True Positive Rate')\n",
    "plt.title('XGB Classifier', size=16)\n",
    "plt.legend(loc='lower right')\n",
    "plt.show()"
   ]
  },
  {
   "cell_type": "code",
   "execution_count": 306,
   "metadata": {},
   "outputs": [
    {
     "data": {
      "image/png": "[encoded data removed]",
      "text/plain": [
       "<Figure size 720x720 with 1 Axes>"
      ]
     },
     "metadata": {},
     "output_type": "display_data"
    }
   ],
   "source": [
    "matplotlib.rcParams['figure.figsize'] = (10, 10)\n",
    "xgboost.plot_importance(booster=xgb)\n",
    "plt.savefig('tree_importance_test1.png')"
   ]
  },
  {
   "cell_type": "code",
   "execution_count": null,
   "metadata": {},
   "outputs": [],
   "source": []
  }
 ],
 "metadata": {
  "kernelspec": {
   "display_name": "Python 3",
   "language": "python",
   "name": "python3"
  },
  "language_info": {
   "codemirror_mode": {
    "name": "ipython",
    "version": 3
   },
   "file_extension": ".py",
   "mimetype": "text/x-python",
   "name": "python",
   "nbconvert_exporter": "python",
   "pygments_lexer": "ipython3",
   "version": "3.6.5"
  }
 },
 "nbformat": 4,
 "nbformat_minor": 2
}
