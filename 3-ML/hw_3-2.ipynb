{
 "cells": [
  {
   "cell_type": "markdown",
   "metadata": {},
   "source": [
    "## Домашняя работа\n",
    "\n",
    "1. Наборы данных вида Transactions (несколько транзакций на одного клиента) трансформировать в таблицу, где cl_id будут уникальными (соответственно 4000 строк в train и 1000 строк в test\n",
    "2. Для каждого cl_id будет уникальное целевое событие target_flag, а также уникальный канал привлечения клиента channel_type (клиент привлекается лишь однажды и с самого начала его записи присваивается значение канала привлечения)\n",
    "3. При агрегации (*pandas.DataFrame.groupby*) по cl_id (или по связке cl_id, channel_type, target_flag) необходимо создавать производные фичи, идеи для таких фичей могут быть следующими:\n",
    "\n",
    "    - общая сумма транзакций по каждой из trx_category\n",
    "    - общая сумма транзакции по основным вылютам (напр. выделить рубли, доллары и евро - предположительно, это будут самые крупные категории)\n",
    "    - общая сумма транзакций по категориям MCC кодов (например, выбрать основные/популярные MCC коды). ВНИМАНИ! Некоторые MCC коды из train могут быть не представлены в test. Про MCC коды в целом: http://www.banki.ru/wikibank/mcc-kod/; Справочник MCC кодов: https://mcc-codes.ru/code; Про некоторые категории кэшбека Росбанка: https://mcc-codes.ru/card/rosbank-sverkh-plus;\n",
    "    - возможные агрегации по времени суток и дням недели - траты в выходные (праздники) или будни, в ночное время или в рабочее и т.д.\n",
    "4. **Обязательная часть**: провести первичный анализ данных - посмотреть распределения признаков, выделить самые популярные MCC, помотреть активность клиентов по дням недели/времени, какие категории транзакции (trx_category) наиболее популярны и т.д. Получить инсайты, которые в дальнейшем помогут вам правильно подготовить фичи\n",
    "5. **Дополнительная часть**: с отобранными фичами и полученными компонентами обучить модель (тип алгоритма на свой вкус, можно начать с линейной) и померить качество на локальном тестовом наборе данных (локальная валидация), который создается в этом ноутбуке. **Метрика оценки качества - ROC AUC**(https://en.wikipedia.org/wiki/Receiver_operating_characteristic)\n",
    "6. Задания принимаются в виде ноутбука с кодов/картинками выполненной обязательной части + указанием места в leaderboard при решении дополнительной\n",
    "\n",
    "При возникновении вопросов и для отправки домашнего задания - egsachko@gmail.com или http://fb.com/sachkoe\n",
    "    "
   ]
  },
  {
   "cell_type": "code",
   "execution_count": 1,
   "metadata": {},
   "outputs": [],
   "source": [
    "import pandas as pd\n",
    "import numpy as np\n",
    "import matplotlib.pyplot as plt\n",
    "%matplotlib inline\n",
    "import datetime\n",
    "import numpy as np\n",
    "from sklearn.metrics import roc_auc_score\n",
    "#import xgboost\n",
    "import statsmodels.api as sm\n",
    "import statsmodels.formula.api as smf\n",
    "from sklearn import svm\n",
    "from sklearn.metrics import roc_auc_score, roc_curve"
   ]
  },
  {
   "cell_type": "code",
   "execution_count": 2,
   "metadata": {},
   "outputs": [],
   "source": [
    "raw_df = pd.read_csv('rosbank_train.csv')\n",
    "#raw_df.head(10)"
   ]
  },
  {
   "cell_type": "code",
   "execution_count": 3,
   "metadata": {},
   "outputs": [],
   "source": [
    "#raw_df[\"MCC\"].value_counts(normalize = True)\n",
    "# 5411    121640 - Бакалейные магазины, супермаркеты\n",
    "# 6011     54382 - Финансовые учреждения – снятие наличности автоматически\n",
    "# 5814     41351 - Фастфуд\n",
    "# 5812     30027 - Места общественного питания, рестораны\n",
    "# 5499     27237 - Различные продовольственные магазины - нигде более не классифицированные\n",
    "# 5541     19816 - Станции техобслуживания, с дополнительными услугами или без\n",
    "# 5912     18728 - Аптеки\n",
    "# 5999     13073 - Различные магазины и специальные розничные магазины\n",
    "# 6012     10056 - Финансовые учреждения – торговля и услуги"
   ]
  },
  {
   "cell_type": "markdown",
   "metadata": {},
   "source": [
    "##### Создаем таблицу df_trans_count со столбцами: суммарные траты, суммарный депозит, разница между этими величинами"
   ]
  },
  {
   "cell_type": "code",
   "execution_count": 4,
   "metadata": {},
   "outputs": [],
   "source": [
    "sum_income = raw_df[(raw_df['trx_category'].isin(['DEPOSIT','C2C_IN','BACK_TRX']))].groupby(['cl_id'])['amount'].sum()\n",
    "sum_income = sum_income.rename('sum_income')\n",
    "\n",
    "sum_outcome = raw_df[ ~ (raw_df['trx_category'].isin(['DEPOSIT','C2C_IN','BACK_TRX']))].groupby(['cl_id'])['amount'].sum()\n",
    "sum_outcome = sum_outcome.rename('sum_outcome')\n",
    "\n",
    "in_out_diff  = sum_income - sum_outcome\n",
    "in_out_diff = in_out_diff.rename('in_out_diff')\n",
    "\n",
    "\n",
    "target_flag_grouped = raw_df.groupby(['cl_id']).agg('target_flag').first()\n",
    "target_flag_grouped = target_flag_grouped.rename('target_flag')\n",
    "\n",
    "channel_type_grouped = raw_df.groupby(['cl_id']).agg('channel_type').first()\n",
    "channel_type_grouped = channel_type_grouped.rename('channel_type')\n",
    "\n",
    "df_trans_count = channel_type_grouped.reset_index().set_index('cl_id').join(target_flag_grouped).join(sum_income).join(sum_outcome).join(in_out_diff)\n",
    "df_trans_count = df_trans_count.reset_index(col_level=1)\n",
    "df_trans_count.replace({np.nan:0}, inplace=True)\n",
    "#df_trans_count.head(15)\n"
   ]
  },
  {
   "cell_type": "code",
   "execution_count": 5,
   "metadata": {},
   "outputs": [],
   "source": [
    "# Таблица сумма транзакций, минимальное и максимальное значение\n",
    "#df_cats_agg = raw_df.groupby(['cl_id']).agg({'amount':['sum','min','max']})\n",
    "#df_cats_agg = df_cats_agg.reset_index(col_level=1)\n",
    "#df_cats_agg.columns = df_cats_agg.columns.get_level_values(1)\n",
    "#df_cats_agg.head(5)\n",
    "\n",
    "#Джойним в таблицу df_trans_count\n",
    "#df_trans_count_min_max = df_cats_agg.set_index('cl_id').join(sum_income).join(sum_outcome).join(in_out_diff).join(target_flag_grouped)\n",
    "#df_trans_count_min_max.head(5)"
   ]
  },
  {
   "cell_type": "markdown",
   "metadata": {},
   "source": [
    "##### Таблицы по тратам по дням и по часам"
   ]
  },
  {
   "cell_type": "code",
   "execution_count": 6,
   "metadata": {},
   "outputs": [],
   "source": [
    "#Функция для получения транзакций по дням\n",
    "def transaction_by_day_count(dataset):\n",
    "    dataset['day_of_transaction'] = dataset['TRDATETIME'].apply( lambda x: (datetime.datetime.strptime(x, '%d%b%y:%H:%M:%S')).strftime('%w') ) \n",
    "    tmp_df = dataset.groupby(['cl_id','day_of_transaction'])['day_of_transaction'].size().unstack().fillna(0).reset_index()\n",
    "    old_columns = [old_col for old_col in tmp_df.columns.tolist() if old_col in dataset['day_of_transaction'].unique()]\n",
    "    tmp_df.rename(columns={old_col: 'day_' + old_col for old_col in old_columns}, inplace=True)\n",
    "    return tmp_df"
   ]
  },
  {
   "cell_type": "code",
   "execution_count": 7,
   "metadata": {},
   "outputs": [],
   "source": [
    "# Функция для получения транзакций по часам\n",
    "def transaction_by_hour_count(dataset):\n",
    "    dataset['hour_of_transaction'] = dataset['TRDATETIME'].apply( lambda x: (datetime.datetime.strptime(x, '%d%b%y:%H:%M:%S')).strftime('%H') ) \n",
    "    tmp_df = dataset.groupby(['cl_id', 'hour_of_transaction'])['hour_of_transaction'].size().unstack().fillna(0).reset_index()\n",
    "    old_columns = [old_col for old_col in tmp_df.columns.tolist() if old_col in dataset['hour_of_transaction'].unique()]\n",
    "    tmp_df.rename(columns={old_col: 'hour_' + old_col for old_col in old_columns}, inplace=True)\n",
    "    return tmp_df"
   ]
  },
  {
   "cell_type": "code",
   "execution_count": 8,
   "metadata": {},
   "outputs": [],
   "source": [
    "#Создаём таблицу с тратами по дням\n",
    "df_trans_day_count = transaction_by_day_count(raw_df)\n",
    "\n",
    "df_trans_day_count_f = channel_type_grouped.reset_index().set_index('cl_id').join(target_flag_grouped).join(df_trans_day_count.set_index('cl_id'))\n",
    "df_trans_day_count_f.replace({np.nan:0}, inplace=True)\n",
    "#df_trans_day_count_f.head(15)"
   ]
  },
  {
   "cell_type": "code",
   "execution_count": 9,
   "metadata": {},
   "outputs": [],
   "source": [
    "#Создаём таблицу с тратами по часам\n",
    "df_trans_hour_count = transaction_by_hour_count(raw_df)\n",
    "\n",
    "df_trans_hour_count_f = channel_type_grouped.reset_index().set_index('cl_id').join(target_flag_grouped).join(df_trans_hour_count.set_index('cl_id'))\n",
    "df_trans_hour_count_f.replace({np.nan:0}, inplace=True)\n",
    "#df_trans_hour_count_f.head(15)"
   ]
  },
  {
   "cell_type": "markdown",
   "metadata": {},
   "source": [
    "##### Создаём таблицу с самыми используемыми MCC - df_trans_mcc"
   ]
  },
  {
   "cell_type": "code",
   "execution_count": 10,
   "metadata": {},
   "outputs": [],
   "source": [
    "# 5411    121640 - Бакалейные магазины, супермаркеты\n",
    "# 6011     54382 - Финансовые учреждения – снятие наличности автоматически\n",
    "# 5814     41351 - Фастфуд\n",
    "# 5812     30027 - Места общественного питания, рестораны\n",
    "# 5499     27237 - Различные продовольственные магазины - нигде более не классифицированные\n",
    "# 5541     19816 - Станции техобслуживания, с дополнительными услугами или без\n",
    "# 5912     18728 - Аптеки\n",
    "# 5999     13073 - Различные магазины и специальные розничные магазины\n",
    "# 6012     10056 - Финансовые учреждения – торговля и услуги\n",
    "\n",
    "import sqlite3\n",
    "conn = sqlite3.connect('transactions.db')\n",
    "raw_df.to_sql('transactions_raw', if_exists='replace', con=conn)\n",
    "df_trans_mcc = pd.io.sql.read_sql(\"\"\"\n",
    "    select\n",
    "        cl_id,\n",
    "        sum(case when MCC = 5411 then amount else 0 end) as MCC5411,\n",
    "        sum(case when MCC = 6011 then amount else 0 end) as MCC6011,\n",
    "        sum(case when MCC = 5814 then amount else 0 end) as MCC5814,\n",
    "        sum(case when MCC = 5812 then amount else 0 end) as MCC5812,\n",
    "        sum(case when MCC = 5499 then amount else 0 end) as MCC5499,\n",
    "        sum(case when MCC = 5499 then amount else 0 end) as MCC5541,        \n",
    "        sum(case when MCC = 5912 then amount else 0 end) as MCC5912,\n",
    "        sum(case when MCC = 5999 then amount else 0 end) as MCC5999,\n",
    "        sum(case when MCC = 5999 then amount else 0 end) as MCC6012,\n",
    "        \n",
    "/*----------------------avgerage amount----------------------------*/  \n",
    "\n",
    "        avg(case when MCC = 5411 then amount else 0 end) as MCC5411_avg,\n",
    "        avg(case when MCC = 6011 then amount else 0 end) as MCC6011_avg,\n",
    "        avg(case when MCC = 5814 then amount else 0 end) as MCC5814_avg,\n",
    "        avg(case when MCC = 5812 then amount else 0 end) as MCC5812_avg,\n",
    "        avg(case when MCC = 5499 then amount else 0 end) as MCC5499_avg,\n",
    "        avg(case when MCC = 5499 then amount else 0 end) as MCC5541_avg,        \n",
    "        avg(case when MCC = 5912 then amount else 0 end) as MCC5912_avg,\n",
    "        avg(case when MCC = 5999 then amount else 0 end) as MCC5999_avg,\n",
    "        avg(case when MCC = 5999 then amount else 0 end) as MCC6012_avg\n",
    "        \n",
    "    from transactions_raw\n",
    "    group by 1\n",
    "    order by 1\n",
    "    \"\"\", conn)\n",
    "#df_trans_mcc.head(5)"
   ]
  },
  {
   "cell_type": "code",
   "execution_count": 11,
   "metadata": {},
   "outputs": [],
   "source": [
    "# Добавляем в таблицу df_trans_mcc столбцы channel_type и target_flag\n",
    "df_trans_mcc_f = channel_type_grouped.reset_index().set_index('cl_id').join(target_flag_grouped).join(df_trans_mcc.set_index('cl_id'))\n",
    "df_trans_mcc_f = df_trans_mcc_f.reset_index(col_level=1)\n",
    "df_trans_mcc_f.replace({np.nan:0}, inplace=True)\n",
    "#df_trans_mcc_f.head(5)\n"
   ]
  },
  {
   "cell_type": "markdown",
   "metadata": {},
   "source": [
    "#### Создаём финальную таблицу"
   ]
  },
  {
   "cell_type": "code",
   "execution_count": null,
   "metadata": {},
   "outputs": [],
   "source": [
    "df_trans_count.head(5)"
   ]
  },
  {
   "cell_type": "code",
   "execution_count": null,
   "metadata": {},
   "outputs": [],
   "source": [
    "df_trans_day_count.head(5)"
   ]
  },
  {
   "cell_type": "code",
   "execution_count": null,
   "metadata": {},
   "outputs": [],
   "source": [
    "#df_trans_hour_count.head(5)"
   ]
  },
  {
   "cell_type": "code",
   "execution_count": null,
   "metadata": {},
   "outputs": [],
   "source": [
    "df_trans_count_f = df_trans_count.set_index('cl_id').join(df_trans_day_count.set_index('cl_id')).join(df_trans_hour_count.set_index('cl_id')).join(df_trans_mcc.set_index('cl_id'))\n",
    "df_trans_count_f = df_trans_count_f.reset_index(col_level=1)\n",
    "df_trans_count_f = df_trans_count_f.drop([\"channel_type\"], axis = 1)\n",
    "df_trans_count_f.head(5)\n"
   ]
  },
  {
   "cell_type": "code",
   "execution_count": null,
   "metadata": {},
   "outputs": [],
   "source": [
    "df_trans_count_f.channel_type.unique()"
   ]
  },
  {
   "cell_type": "markdown",
   "metadata": {},
   "source": [
    "### Backward selection"
   ]
  },
  {
   "cell_type": "code",
   "execution_count": null,
   "metadata": {},
   "outputs": [],
   "source": [
    "from sklearn.model_selection import train_test_split\n",
    "train_set, test_set = train_test_split(df_trans_count_f, test_size=0.2, random_state=42)"
   ]
  },
  {
   "cell_type": "code",
   "execution_count": null,
   "metadata": {},
   "outputs": [],
   "source": [
    "from sklearn.base import BaseEstimator, TransformerMixin\n",
    "\n",
    "class DataFrameSelector(BaseEstimator, TransformerMixin):\n",
    "    def __init__(self, attribute_names):\n",
    "        self.attribute_names = attribute_names\n",
    "    def fit(self, X, y=None):\n",
    "        return self\n",
    "    def transform(self, X):\n",
    "        return X[self.attribute_names].values"
   ]
  },
  {
   "cell_type": "code",
   "execution_count": null,
   "metadata": {},
   "outputs": [],
   "source": [
    "from sklearn.pipeline import FeatureUnion\n",
    "from sklearn.pipeline import Pipeline\n",
    "from sklearn.preprocessing import StandardScaler, Imputer, LabelBinarizer\n",
    "\n",
    "num_attribs = train_set.columns.drop([\"target_flag\"])\n",
    "\n",
    "num_pipeline = Pipeline([\n",
    "    ('selector', DataFrameSelector(num_attribs)),\n",
    "    ('imputer', Imputer(strategy=\"median\")),\n",
    "    ('std_scaler', StandardScaler()),\n",
    "])\n",
    "\n",
    "full_pipeline = FeatureUnion(transformer_list=[\n",
    "    (\"num_pipeline\", num_pipeline),\n",
    "])"
   ]
  },
  {
   "cell_type": "code",
   "execution_count": null,
   "metadata": {},
   "outputs": [],
   "source": [
    "X_train = train_set.drop(\"target_flag\", axis=1)\n",
    "y_train = train_set[\"target_flag\"].copy()\n",
    "\n",
    "X_test = test_set.drop(\"target_flag\", axis=1)\n",
    "y_test = test_set[\"target_flag\"].copy()"
   ]
  },
  {
   "cell_type": "code",
   "execution_count": null,
   "metadata": {},
   "outputs": [],
   "source": [
    "X_train_prepared = full_pipeline.fit_transform(X_train)\n",
    "X_test_prepared = full_pipeline.transform(X_test)"
   ]
  },
  {
   "cell_type": "code",
   "execution_count": null,
   "metadata": {},
   "outputs": [],
   "source": [
    "from sklearn.metrics import mean_squared_error\n",
    "from sklearn.linear_model import LinearRegression\n",
    "\n",
    "lin_reg = LinearRegression().fit(X_train_prepared, y_train)\n",
    "y_pred = lin_reg.predict(X_test_prepared)\n",
    "mse = mean_squared_error(y_test, y_pred)\n",
    "rmse = np.sqrt(mse)\n",
    "rmse"
   ]
  },
  {
   "cell_type": "markdown",
   "metadata": {},
   "source": [
    "### Features"
   ]
  },
  {
   "cell_type": "code",
   "execution_count": null,
   "metadata": {},
   "outputs": [],
   "source": [
    "import statsmodels.api as sm\n",
    "import statsmodels.formula.api as smf"
   ]
  },
  {
   "cell_type": "markdown",
   "metadata": {},
   "source": [
    "#### Iteration - 0"
   ]
  },
  {
   "cell_type": "code",
   "execution_count": null,
   "metadata": {},
   "outputs": [],
   "source": [
    "_iteration_cols = train_set.columns.drop('target_flag')"
   ]
  },
  {
   "cell_type": "code",
   "execution_count": null,
   "metadata": {},
   "outputs": [],
   "source": [
    "def get_formula(_cols):\n",
    "    return 'target_flag ~ ' + \" + \".join(_cols)"
   ]
  },
  {
   "cell_type": "code",
   "execution_count": null,
   "metadata": {},
   "outputs": [],
   "source": [
    "lm = smf.ols(get_formula(_iteration_cols), train_set).fit()\n",
    "rss = np.sum(lm.resid ** 2)\n",
    "rmse = np.sqrt(rss / len(lm.resid))\n",
    "print(\"RMSE:\", rmse)\n",
    "print(\"R^2:\", lm.rsquared)"
   ]
  },
  {
   "cell_type": "code",
   "execution_count": null,
   "metadata": {},
   "outputs": [],
   "source": [
    "get_formula(_iteration_cols)"
   ]
  },
  {
   "cell_type": "code",
   "execution_count": null,
   "metadata": {},
   "outputs": [],
   "source": [
    "lm_res = lm.summary()\n",
    "lm_res.tables[1]"
   ]
  },
  {
   "cell_type": "markdown",
   "metadata": {},
   "source": [
    "### Iteration - 1"
   ]
  },
  {
   "cell_type": "code",
   "execution_count": null,
   "metadata": {},
   "outputs": [],
   "source": [
    "_iteration_cols = _iteration_cols.drop('hour_00')\n",
    "_iteration_cols = _iteration_cols.drop('hour_01')\n",
    "_iteration_cols = _iteration_cols.drop('hour_02')\n",
    "_iteration_cols = _iteration_cols.drop('hour_03')\n",
    "_iteration_cols = _iteration_cols.drop('hour_04')\n",
    "_iteration_cols = _iteration_cols.drop('hour_05')\n",
    "_iteration_cols = _iteration_cols.drop('hour_06')\n",
    "_iteration_cols = _iteration_cols.drop('hour_07')\n",
    "_iteration_cols = _iteration_cols.drop('hour_08')\n",
    "_iteration_cols = _iteration_cols.drop('hour_09')\n",
    "_iteration_cols = _iteration_cols.drop('hour_10')\n",
    "_iteration_cols = _iteration_cols.drop('hour_11')\n",
    "_iteration_cols = _iteration_cols.drop('hour_12')\n",
    "_iteration_cols = _iteration_cols.drop('hour_13')\n",
    "_iteration_cols = _iteration_cols.drop('hour_14')\n",
    "_iteration_cols = _iteration_cols.drop('hour_15')\n",
    "_iteration_cols = _iteration_cols.drop('hour_16')\n",
    "_iteration_cols = _iteration_cols.drop('hour_17')\n",
    "_iteration_cols = _iteration_cols.drop('hour_18')\n",
    "_iteration_cols = _iteration_cols.drop('hour_19')\n",
    "_iteration_cols = _iteration_cols.drop('hour_20')\n",
    "_iteration_cols = _iteration_cols.drop('hour_21')\n",
    "_iteration_cols = _iteration_cols.drop('hour_22')\n",
    "_iteration_cols = _iteration_cols.drop('hour_23')"
   ]
  },
  {
   "cell_type": "code",
   "execution_count": null,
   "metadata": {},
   "outputs": [],
   "source": [
    "lm = smf.ols(get_formula(_iteration_cols), train_set).fit()\n",
    "rss = np.sum(lm.resid ** 2)\n",
    "rmse = np.sqrt(rss / len(lm.resid))\n",
    "print(\"RMSE:\", rmse)\n",
    "print(\"R^2:\", lm.rsquared)"
   ]
  },
  {
   "cell_type": "code",
   "execution_count": null,
   "metadata": {},
   "outputs": [],
   "source": [
    "lm_res = lm.summary()\n",
    "lm_res.tables[1]"
   ]
  },
  {
   "cell_type": "markdown",
   "metadata": {},
   "source": [
    "### Iteration - 2"
   ]
  },
  {
   "cell_type": "code",
   "execution_count": null,
   "metadata": {},
   "outputs": [],
   "source": [
    "_iteration_cols = _iteration_cols.drop('MCC5814_avg')\n",
    "_iteration_cols = _iteration_cols.drop('MCC5411_avg')\n",
    "_iteration_cols = _iteration_cols.drop('MCC5499_avg')\n",
    "_iteration_cols = _iteration_cols.drop('MCC5541_avg')\n",
    "_iteration_cols = _iteration_cols.drop('MCC5812_avg')\n",
    "_iteration_cols = _iteration_cols.drop('MCC5499')\n",
    "_iteration_cols = _iteration_cols.drop('MCC5541')\n",
    "_iteration_cols = _iteration_cols.drop('MCC5812')\n",
    "_iteration_cols = _iteration_cols.drop('MCC5912_avg')\n",
    "_iteration_cols = _iteration_cols.drop('MCC5411')\n",
    "_iteration_cols = _iteration_cols.drop('MCC5814')\n",
    "_iteration_cols = _iteration_cols.drop('MCC6011')"
   ]
  },
  {
   "cell_type": "code",
   "execution_count": null,
   "metadata": {},
   "outputs": [],
   "source": [
    "lm = smf.ols(get_formula(_iteration_cols), train_set).fit()\n",
    "rss = np.sum(lm.resid ** 2)\n",
    "rmse = np.sqrt(rss / len(lm.resid))\n",
    "print(\"RMSE:\", rmse)\n",
    "print(\"R^2:\", lm.rsquared)"
   ]
  },
  {
   "cell_type": "code",
   "execution_count": null,
   "metadata": {},
   "outputs": [],
   "source": [
    "lm_res = lm.summary()\n",
    "lm_res.tables[1]"
   ]
  },
  {
   "cell_type": "markdown",
   "metadata": {},
   "source": [
    "### Iteration - 3"
   ]
  },
  {
   "cell_type": "code",
   "execution_count": null,
   "metadata": {},
   "outputs": [],
   "source": [
    "_iteration_cols = _iteration_cols.drop('day_0')\n",
    "_iteration_cols = _iteration_cols.drop('day_1')\n",
    "_iteration_cols = _iteration_cols.drop('day_2')\n",
    "_iteration_cols = _iteration_cols.drop('day_3')\n",
    "_iteration_cols = _iteration_cols.drop('day_4')\n",
    "_iteration_cols = _iteration_cols.drop('day_5')\n",
    "_iteration_cols = _iteration_cols.drop('day_6')"
   ]
  },
  {
   "cell_type": "code",
   "execution_count": null,
   "metadata": {},
   "outputs": [],
   "source": [
    "lm = smf.ols(get_formula(_iteration_cols), train_set).fit()\n",
    "rss = np.sum(lm.resid ** 2)\n",
    "rmse = np.sqrt(rss / len(lm.resid))\n",
    "print(\"RMSE:\", rmse)\n",
    "print(\"R^2:\", lm.rsquared)"
   ]
  },
  {
   "cell_type": "code",
   "execution_count": null,
   "metadata": {},
   "outputs": [],
   "source": [
    "lm_res = lm.summary()\n",
    "lm_res.tables[1]"
   ]
  },
  {
   "cell_type": "markdown",
   "metadata": {},
   "source": [
    "### Iteration - 4"
   ]
  },
  {
   "cell_type": "code",
   "execution_count": null,
   "metadata": {},
   "outputs": [],
   "source": [
    "_iteration_cols = _iteration_cols.drop('sum_income')"
   ]
  },
  {
   "cell_type": "code",
   "execution_count": null,
   "metadata": {},
   "outputs": [],
   "source": [
    "lm = smf.ols(get_formula(_iteration_cols), train_set).fit()\n",
    "rss = np.sum(lm.resid ** 2)\n",
    "rmse = np.sqrt(rss / len(lm.resid))\n",
    "print(\"RMSE:\", rmse)\n",
    "print(\"R^2:\", lm.rsquared)"
   ]
  },
  {
   "cell_type": "code",
   "execution_count": null,
   "metadata": {},
   "outputs": [],
   "source": [
    "lm_res = lm.summary()\n",
    "lm_res.tables[1]"
   ]
  },
  {
   "cell_type": "markdown",
   "metadata": {},
   "source": [
    "### Roc_auc"
   ]
  },
  {
   "cell_type": "code",
   "execution_count": null,
   "metadata": {},
   "outputs": [],
   "source": [
    "xgb = xgboost.XGBClassifier(max_depth=5, n_jobs=-1)\n",
    "xgb.fit(X_train, y_train)\n",
    "y_train_predict = xgb.predict_proba(X_train)[:, 1]\n",
    "y_test_predict = xgb.predict_proba(X_test)[:, 1]\n",
    "roc_auc_train = np.round(roc_auc_score(y_train, y_train_predict), 2)\n",
    "roc_auc_test = np.round(roc_auc_score(y_test, y_test_predict), 2)\n",
    "print(\"Train: \", roc_auc_train)\n",
    "print(\"Test: \", roc_auc_test)"
   ]
  },
  {
   "cell_type": "markdown",
   "metadata": {},
   "source": [
    "### Plot"
   ]
  },
  {
   "cell_type": "code",
   "execution_count": null,
   "metadata": {},
   "outputs": [],
   "source": [
    "import matplotlib\n",
    "fpr_train, tpr_train, thresholds_train = roc_curve(y_train, y_train_predict)\n",
    "fpr_test, tpr_test, thresholds_test = roc_curve(y_test, y_test_predict)\n",
    "\n",
    "matplotlib.rcParams['figure.figsize'] = (10.0, 10.0)\n",
    "plt.plot(fpr_train, tpr_train, label='Train ROC AUC {0}'.format(roc_auc_train))\n",
    "plt.plot(fpr_test, tpr_test, label='Test ROC AUC {0}'.format(roc_auc_test))\n",
    "plt.plot([0, 1], [0, 1], '--', color=(0.6, 0.6, 0.6))\n",
    "plt.xlim([0, 1])\n",
    "plt.ylim([0, 1])\n",
    "plt.xlabel('False Positive Rate')\n",
    "plt.ylabel('True Positive Rate')\n",
    "plt.title('XGB Classifier', size=16)\n",
    "plt.legend(loc='lower right')\n",
    "plt.show()"
   ]
  },
  {
   "cell_type": "code",
   "execution_count": null,
   "metadata": {},
   "outputs": [],
   "source": [
    "matplotlib.rcParams['figure.figsize'] = (10, 10)\n",
    "xgboost.plot_importance(booster=xgb)\n",
    "plt.savefig('tree_importance_test1.png')"
   ]
  },
  {
   "cell_type": "code",
   "execution_count": null,
   "metadata": {},
   "outputs": [],
   "source": []
  }
 ],
 "metadata": {
  "kernelspec": {
   "display_name": "Python 3",
   "language": "python",
   "name": "python3"
  },
  "language_info": {
   "codemirror_mode": {
    "name": "ipython",
    "version": 3
   },
   "file_extension": ".py",
   "mimetype": "text/x-python",
   "name": "python",
   "nbconvert_exporter": "python",
   "pygments_lexer": "ipython3",
   "version": "3.6.5"
  }
 },
 "nbformat": 4,
 "nbformat_minor": 2
}
